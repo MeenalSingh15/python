{
  "nbformat": 4,
  "nbformat_minor": 0,
  "metadata": {
    "colab": {
      "provenance": []
    },
    "kernelspec": {
      "name": "python3",
      "display_name": "Python 3"
    },
    "language_info": {
      "name": "python"
    }
  },
  "cells": [
    {
      "cell_type": "code",
      "source": [
        "s='meenal'\n",
        "ss=\"singh\"# anything between quotes is considered a string\n",
        "print(s,ss,type(s),type(ss))"
      ],
      "metadata": {
        "colab": {
          "base_uri": "https://localhost:8080/"
        },
        "id": "T-tQ_UM83pAc",
        "outputId": "23d377a6-ec0d-4581-8e4e-b7b0deaa6db2"
      },
      "execution_count": 9,
      "outputs": [
        {
          "output_type": "stream",
          "name": "stdout",
          "text": [
            "meenal singh <class 'str'> <class 'str'>\n"
          ]
        }
      ]
    },
    {
      "cell_type": "code",
      "source": [
        "#  multiple line string is formed between triple quotes\n",
        "a=\"\"\"hi!\n",
        "I'm multiple\n",
        "line\n",
        "string\"\"\"\n",
        "print(a)"
      ],
      "metadata": {
        "colab": {
          "base_uri": "https://localhost:8080/"
        },
        "id": "2mL8o-2x4dN7",
        "outputId": "f5e3c38e-2759-4894-ebe7-30e995b59ffe"
      },
      "execution_count": 10,
      "outputs": [
        {
          "output_type": "stream",
          "name": "stdout",
          "text": [
            "hi!\n",
            "I'm multiple\n",
            "line \n",
            "string\n"
          ]
        }
      ]
    },
    {
      "cell_type": "code",
      "source": [
        "#  to escape quotes within a string either use escape character \\ or use different quotes within string\n",
        "a=\"Hi I used \\\\ \\\" character to have a quote in string\"\n",
        "b= \"Hi I used ' single quote inside and double quotes to form a string\"\n",
        "print(a)\n",
        "print(b)"
      ],
      "metadata": {
        "colab": {
          "base_uri": "https://localhost:8080/"
        },
        "id": "lmaWjOEM40Jb",
        "outputId": "3203e36c-e170-4190-f08d-636f1e6718e8"
      },
      "execution_count": 14,
      "outputs": [
        {
          "output_type": "stream",
          "name": "stdout",
          "text": [
            "Hi I used \\ \" character to have a quote in string\n",
            "Hi I used ' single quote inside and double quotes to form a string\n"
          ]
        }
      ]
    },
    {
      "cell_type": "code",
      "source": [
        "#  accessing characters of a string string uses index for each char\n",
        "a=\"HI ABC\"\n",
        "for char in a:\n",
        "  print(char)"
      ],
      "metadata": {
        "colab": {
          "base_uri": "https://localhost:8080/"
        },
        "id": "gaosyJeH5nci",
        "outputId": "3686058b-5f48-4044-8a28-3cfde056ef0b"
      },
      "execution_count": 15,
      "outputs": [
        {
          "output_type": "stream",
          "name": "stdout",
          "text": [
            "H\n",
            "I\n",
            " \n",
            "A\n",
            "B\n",
            "C\n"
          ]
        }
      ]
    },
    {
      "cell_type": "code",
      "source": [
        "a=\"HI ABC\"\n",
        "print(a[3])# prints index 3 of string a"
      ],
      "metadata": {
        "colab": {
          "base_uri": "https://localhost:8080/"
        },
        "id": "lcY2dtgB6HAi",
        "outputId": "dee889fd-8c41-4c52-d8df-16558a68da93"
      },
      "execution_count": 16,
      "outputs": [
        {
          "output_type": "stream",
          "name": "stdout",
          "text": [
            "A\n"
          ]
        }
      ]
    },
    {
      "cell_type": "code",
      "source": [
        "for i in range(len(a)):\n",
        "  print(a[i])"
      ],
      "metadata": {
        "colab": {
          "base_uri": "https://localhost:8080/"
        },
        "id": "uQyPPKpK6V1H",
        "outputId": "f61fb81e-0932-427e-8c22-0ece351cc726"
      },
      "execution_count": 17,
      "outputs": [
        {
          "output_type": "stream",
          "name": "stdout",
          "text": [
            "H\n",
            "I\n",
            " \n",
            "A\n",
            "B\n",
            "C\n"
          ]
        }
      ]
    },
    {
      "cell_type": "markdown",
      "source": [
        "**Slicing**"
      ],
      "metadata": {
        "id": "iFXM7LK767fL"
      }
    },
    {
      "cell_type": "markdown",
      "source": [
        "string is basically an array i.e a sequence of characters"
      ],
      "metadata": {
        "id": "w3B2oCKh8QDC"
      }
    },
    {
      "cell_type": "code",
      "source": [
        "n=\"TOM,JERRY\"\n",
        "print(len(n))# gives length of the string\n",
        "print(n[0:3])\n",
        "print(n[4:])"
      ],
      "metadata": {
        "colab": {
          "base_uri": "https://localhost:8080/"
        },
        "id": "LpCP0i9u6gkv",
        "outputId": "67eac6c8-eb15-4391-c2e3-089663f5814d"
      },
      "execution_count": 24,
      "outputs": [
        {
          "output_type": "stream",
          "name": "stdout",
          "text": [
            "9\n",
            "TOM\n",
            "JERRY\n"
          ]
        }
      ]
    },
    {
      "cell_type": "code",
      "source": [
        "print(n[-1::-1])"
      ],
      "metadata": {
        "colab": {
          "base_uri": "https://localhost:8080/"
        },
        "id": "vurJ-Ya_7rnO",
        "outputId": "b69bf723-9693-41ef-89cc-81d405901d65"
      },
      "execution_count": 23,
      "outputs": [
        {
          "output_type": "stream",
          "name": "stdout",
          "text": [
            "YRREJ,MOT\n"
          ]
        }
      ]
    },
    {
      "cell_type": "code",
      "source": [
        "n[-1::-2]"
      ],
      "metadata": {
        "colab": {
          "base_uri": "https://localhost:8080/",
          "height": 35
        },
        "id": "HY3xG-uB9V_J",
        "outputId": "2312c6a4-e882-44e1-8076-70bc341f4151"
      },
      "execution_count": 38,
      "outputs": [
        {
          "output_type": "execute_result",
          "data": {
            "text/plain": [
              "'YRJMT'"
            ],
            "application/vnd.google.colaboratory.intrinsic+json": {
              "type": "string"
            }
          },
          "metadata": {},
          "execution_count": 38
        }
      ]
    },
    {
      "cell_type": "code",
      "source": [
        "s=\"meenal singh\"\n",
        "d=s.split()\n",
        "print(d)\n",
        "print(\" \".join(d))"
      ],
      "metadata": {
        "colab": {
          "base_uri": "https://localhost:8080/"
        },
        "id": "MGJQN75X-mwT",
        "outputId": "8130046e-f14f-4176-ae7d-ee3b5bced473"
      },
      "execution_count": 50,
      "outputs": [
        {
          "output_type": "stream",
          "name": "stdout",
          "text": [
            "['meenal', 'singh']\n",
            "meenal singh\n"
          ]
        }
      ]
    },
    {
      "cell_type": "markdown",
      "source": [
        "strings are immutable .\n",
        "you can change a string but not in place\n",
        "i.e old string cannot be changed but when you  can store string in another variable after changes"
      ],
      "metadata": {
        "id": "VqLAHGRkHeOB"
      }
    },
    {
      "cell_type": "code",
      "source": [
        "# upper() converts a string to upper case\n",
        "s=\"hi i am meenal\"\n",
        "print(s.upper(),'--new string')# changes string to upper\n",
        "print(s,'--original')# priginal styring does not change\n"
      ],
      "metadata": {
        "colab": {
          "base_uri": "https://localhost:8080/"
        },
        "id": "hUJ_FczsHyWW",
        "outputId": "13cfcfdf-0f5b-44ef-e069-1ca1977d438a"
      },
      "execution_count": 65,
      "outputs": [
        {
          "output_type": "stream",
          "name": "stdout",
          "text": [
            "HI I AM MEENAL --new string\n",
            "hi i am meenal --original\n"
          ]
        }
      ]
    },
    {
      "cell_type": "code",
      "source": [
        "#  lower() converts string to lowercase\n",
        "l='HI I AM UPPERCASE'\n",
        "n=l.lower()# can store changed string to other variable\n",
        "print(n,'--LOWER CASE')\n",
        "print(l,'--original')"
      ],
      "metadata": {
        "colab": {
          "base_uri": "https://localhost:8080/"
        },
        "id": "4_qPjpeQISFz",
        "outputId": "b085daa2-9705-46b3-e768-fa9546993a9b"
      },
      "execution_count": 63,
      "outputs": [
        {
          "output_type": "stream",
          "name": "stdout",
          "text": [
            "hi i am uppercase --LOWER CASE\n",
            "HI I AM UPPERCASE --original\n"
          ]
        }
      ]
    },
    {
      "cell_type": "code",
      "source": [
        "c='capital'\n",
        "print(c.capitalize(),'--first letter now capital')# capitalizes first letter\n",
        "print(c,'--original')"
      ],
      "metadata": {
        "colab": {
          "base_uri": "https://localhost:8080/"
        },
        "id": "kUFVyK2eKKDh",
        "outputId": "ee0c1e96-d38e-4557-8418-e922eb31c49c"
      },
      "execution_count": 64,
      "outputs": [
        {
          "output_type": "stream",
          "name": "stdout",
          "text": [
            "Capital --first letter now capital\n",
            "capital --original\n"
          ]
        }
      ]
    },
    {
      "cell_type": "markdown",
      "source": [
        "rstrip() removes tailing characters or spaces"
      ],
      "metadata": {
        "id": "vOgvX5iKJaeo"
      }
    },
    {
      "cell_type": "code",
      "source": [
        "st='!!!!! hi !!!!!!!'\n",
        "print(st.rstrip(\"!\"))# removes ! at ends"
      ],
      "metadata": {
        "colab": {
          "base_uri": "https://localhost:8080/"
        },
        "id": "4X6DdrHcJfua",
        "outputId": "e293dad3-6d53-4bc0-ffd6-3bc0efcf8259"
      },
      "execution_count": 59,
      "outputs": [
        {
          "output_type": "stream",
          "name": "stdout",
          "text": [
            "!!!!! hi \n"
          ]
        }
      ]
    },
    {
      "cell_type": "markdown",
      "source": [
        "lstrip() removes leading characters"
      ],
      "metadata": {
        "id": "U1OL3nKPJ1wm"
      }
    },
    {
      "cell_type": "code",
      "source": [
        "print(st.lstrip(\"!\"))# removes ! at begining"
      ],
      "metadata": {
        "colab": {
          "base_uri": "https://localhost:8080/"
        },
        "id": "cgXuF6x3JvUJ",
        "outputId": "5e313140-5576-41a5-9522-770ee4a2a89f"
      },
      "execution_count": 60,
      "outputs": [
        {
          "output_type": "stream",
          "name": "stdout",
          "text": [
            " hi !!!!!!!\n"
          ]
        }
      ]
    },
    {
      "cell_type": "markdown",
      "source": [
        "replace() removes a particular string with another string\n",
        "string. replace(old, new[, count]) ."
      ],
      "metadata": {
        "id": "o80ZkqrDLDP4"
      }
    },
    {
      "cell_type": "code",
      "source": [
        "s=\"hi hi hi my name is meenal\"\n",
        "print(s.replace(\"hi\",\"hello\"))# replaces all hi occurences\n",
        "print(s.replace(\"hi\",\"hello\",1))# replaces only 1 hi occurence"
      ],
      "metadata": {
        "colab": {
          "base_uri": "https://localhost:8080/"
        },
        "id": "EhWluwEjJ-MQ",
        "outputId": "5226a860-ac91-4458-ff35-fd0b25c89de6"
      },
      "execution_count": 67,
      "outputs": [
        {
          "output_type": "stream",
          "name": "stdout",
          "text": [
            "hello hello hello my name is meenal\n",
            "hello hi hi my name is meenal\n"
          ]
        }
      ]
    },
    {
      "cell_type": "code",
      "source": [
        "len(s)"
      ],
      "metadata": {
        "colab": {
          "base_uri": "https://localhost:8080/"
        },
        "id": "rPdFExF1OTmZ",
        "outputId": "58cd128e-0ce8-4f11-81a8-e5a96cc671da"
      },
      "execution_count": 74,
      "outputs": [
        {
          "output_type": "execute_result",
          "data": {
            "text/plain": [
              "26"
            ]
          },
          "metadata": {},
          "execution_count": 74
        }
      ]
    },
    {
      "cell_type": "code",
      "source": [
        "#moves the string to center as per requirements of user center(length required,\"string to be added at ends \")\n",
        "print(s.center(60,'.'))\n",
        "len(s.center(60,\".\"))"
      ],
      "metadata": {
        "colab": {
          "base_uri": "https://localhost:8080/"
        },
        "id": "QeHPD2wXMoVr",
        "outputId": "971b9e79-07fb-482c-cbe5-1b13f9f3d244"
      },
      "execution_count": 79,
      "outputs": [
        {
          "output_type": "stream",
          "name": "stdout",
          "text": [
            ".................hi hi hi my name is meenal.................\n"
          ]
        },
        {
          "output_type": "execute_result",
          "data": {
            "text/plain": [
              "60"
            ]
          },
          "metadata": {},
          "execution_count": 79
        }
      ]
    },
    {
      "cell_type": "markdown",
      "source": [
        "count() returns the number of times a given value has occured in a string"
      ],
      "metadata": {
        "id": "Y2cfdij4PG2q"
      }
    },
    {
      "cell_type": "code",
      "source": [
        "s=\"AAA AAA BBBB BBBB\"\n",
        "print(s.count(\"A\"),'times A has occured')\n",
        "print(s.count(\"B\"),'times B has occured')\n",
        "\n"
      ],
      "metadata": {
        "colab": {
          "base_uri": "https://localhost:8080/"
        },
        "id": "fhw3IHGBPN2i",
        "outputId": "21971d17-f86f-47d5-9bd8-64671bf09f5c"
      },
      "execution_count": 81,
      "outputs": [
        {
          "output_type": "stream",
          "name": "stdout",
          "text": [
            "6 times A has occured\n",
            "8 times B has occured\n"
          ]
        }
      ]
    },
    {
      "cell_type": "markdown",
      "source": [
        "startswith() - checks if string starts with a particular character"
      ],
      "metadata": {
        "id": "rJlWzjJ0ZbfN"
      }
    },
    {
      "cell_type": "code",
      "source": [
        "s=\"starts with starts\"\n",
        "print(s.startswith(\"s\"),s)\n",
        "print(s.startswith(\"starts\"),s)\n",
        "print(s.startswith(\"z\"),s)"
      ],
      "metadata": {
        "colab": {
          "base_uri": "https://localhost:8080/"
        },
        "id": "hd7eFxOgZiCb",
        "outputId": "2043c80f-2691-46ef-f0df-9fe1face1539"
      },
      "execution_count": 112,
      "outputs": [
        {
          "output_type": "stream",
          "name": "stdout",
          "text": [
            "True starts with starts\n",
            "True starts with starts\n",
            "False starts with starts\n"
          ]
        }
      ]
    },
    {
      "cell_type": "markdown",
      "source": [
        "endswith() checks if a given string ends with a particular value\n",
        "returns boolean\n",
        "syntax: string.endswith(value, start, end)"
      ],
      "metadata": {
        "id": "s6vjLMY5Pnb5"
      }
    },
    {
      "cell_type": "code",
      "source": [
        "e='i end with e'\n",
        "print(e.endswith('with',6,10))# checks if a given string ends with 'with'\n",
        "print(e.endswith('e'))\n",
        "print(e.endswith('z'))\n",
        "print(e.endswith('h'))"
      ],
      "metadata": {
        "colab": {
          "base_uri": "https://localhost:8080/"
        },
        "id": "3SRWcOboPuun",
        "outputId": "ef6990a5-aced-4e93-c41c-8d48f23fcbf7"
      },
      "execution_count": 89,
      "outputs": [
        {
          "output_type": "stream",
          "name": "stdout",
          "text": [
            "True\n",
            "True\n",
            "False\n",
            "False\n"
          ]
        }
      ]
    },
    {
      "cell_type": "markdown",
      "source": [
        "find() function is used to return the lowest index value of the first occurrence of the substring from the input string; else it returns -1."
      ],
      "metadata": {
        "id": "Yq38Ty9IQiCl"
      }
    },
    {
      "cell_type": "code",
      "source": [
        "f='hi i am here can you find me'\n",
        "print(f.find(\"i\"))# returns index of first occurence of i\n",
        "print(f.find(\"z\"))# as z is not present it returns -1"
      ],
      "metadata": {
        "colab": {
          "base_uri": "https://localhost:8080/"
        },
        "id": "MXX_Xy-AQkVx",
        "outputId": "affbe78f-d65e-4ff7-c85a-bcaa0c2a3ef0"
      },
      "execution_count": 86,
      "outputs": [
        {
          "output_type": "stream",
          "name": "stdout",
          "text": [
            "1\n",
            "-1\n"
          ]
        }
      ]
    },
    {
      "cell_type": "markdown",
      "source": [
        "index() provides you an option to give it hints to where the value searched for might lie. So the syntax is: list_name.index(element, start, stop). Here the start and stop values are optional. In fact, only use it when entirely sure about the range else you will get a ValueError"
      ],
      "metadata": {
        "id": "hDR2ysM1Scyh"
      }
    },
    {
      "cell_type": "code",
      "source": [
        "i='index me please'\n",
        "print(i.index(\"me\"))\n",
        "print(i.find(\"me\"))# both index and find give index value\n",
        "print(i.index(\"me\",5,9))\n",
        "print(i.index(\"please\"))"
      ],
      "metadata": {
        "colab": {
          "base_uri": "https://localhost:8080/"
        },
        "id": "ga5lTzeZSKSS",
        "outputId": "3b4a1999-ea14-4313-9d95-1d02e24228f1"
      },
      "execution_count": 95,
      "outputs": [
        {
          "output_type": "stream",
          "name": "stdout",
          "text": [
            "6\n",
            "6\n",
            "6\n",
            "9\n"
          ]
        }
      ]
    },
    {
      "cell_type": "markdown",
      "source": [
        "isalnum() checks if string is alphanumeric meaning it has A-Z,a-z,0-9 characters only(no special character or spaces or puntuation)"
      ],
      "metadata": {
        "id": "koNcyawlTKux"
      }
    },
    {
      "cell_type": "code",
      "source": [
        "a='isalphaNUMERIC12465'\n",
        "b='is NOT @lphanumeric!!!!@#$'\n",
        "print(a.isalnum(),a)\n",
        "print(b.isalnum(),b)\n"
      ],
      "metadata": {
        "colab": {
          "base_uri": "https://localhost:8080/"
        },
        "id": "Oy5BNj_LTWuF",
        "outputId": "bed2c848-2d21-4569-8813-a1636426007a"
      },
      "execution_count": 99,
      "outputs": [
        {
          "output_type": "stream",
          "name": "stdout",
          "text": [
            "True isalphaNUMERIC12465\n",
            "False is NOT @lphanumeric!!!!@#$\n"
          ]
        }
      ]
    },
    {
      "cell_type": "markdown",
      "source": [
        "isalpha() returns true only if A-Z ,a-z is present (no puntuation numbers special characters or puntuation)"
      ],
      "metadata": {
        "id": "KXgBLVUCT4ee"
      }
    },
    {
      "cell_type": "code",
      "source": [
        "al=\"iamalpha\"\n",
        "al1='i am not alpha 1 2'\n",
        "print(al.isalpha(),al)\n",
        "print(al1.isalpha(),al1)"
      ],
      "metadata": {
        "colab": {
          "base_uri": "https://localhost:8080/"
        },
        "id": "qVDjiuPcT0j1",
        "outputId": "57f4905e-0fc1-4777-f411-5cedc68a568f"
      },
      "execution_count": 98,
      "outputs": [
        {
          "output_type": "stream",
          "name": "stdout",
          "text": [
            "True iamalpha\n",
            "False i am not alpha 1 2\n"
          ]
        }
      ]
    },
    {
      "cell_type": "markdown",
      "source": [
        "islower() checks if string is in lower case"
      ],
      "metadata": {
        "id": "zKT4AubjXYKZ"
      }
    },
    {
      "cell_type": "code",
      "source": [
        "l=\"i am lower\"\n",
        "print(l.islower(),l)"
      ],
      "metadata": {
        "colab": {
          "base_uri": "https://localhost:8080/"
        },
        "id": "5bUdD3_YUt5O",
        "outputId": "2ec0adab-9037-4af7-f19b-bb0d42193805"
      },
      "execution_count": 108,
      "outputs": [
        {
          "output_type": "stream",
          "name": "stdout",
          "text": [
            "True i am lower\n"
          ]
        }
      ]
    },
    {
      "cell_type": "markdown",
      "source": [
        "isupper() checks if all characters are capital"
      ],
      "metadata": {
        "id": "_XxEdBfVZGsg"
      }
    },
    {
      "cell_type": "code",
      "source": [
        "u='I AM UPPER'\n",
        "print(u.isupper(),u)\n"
      ],
      "metadata": {
        "colab": {
          "base_uri": "https://localhost:8080/"
        },
        "id": "kCQqaIHdZK6a",
        "outputId": "ce124ce5-b3e5-4d08-e598-80b0b6c02e74"
      },
      "execution_count": 109,
      "outputs": [
        {
          "output_type": "stream",
          "name": "stdout",
          "text": [
            "True I AM UPPER\n"
          ]
        }
      ]
    },
    {
      "cell_type": "markdown",
      "source": [
        "isprintable() checks if all characters are printable"
      ],
      "metadata": {
        "id": "uW8CddgaXnyI"
      }
    },
    {
      "cell_type": "code",
      "source": [
        "s='    '\n",
        "print(s.isprintable())\n",
        "a=\"print\\n\"# new line not printable\n",
        "print(a.isprintable())"
      ],
      "metadata": {
        "colab": {
          "base_uri": "https://localhost:8080/"
        },
        "id": "GSsymZ6yXtgb",
        "outputId": "68ae2e63-38bc-4cf8-8a8a-98aedd14fb17"
      },
      "execution_count": 103,
      "outputs": [
        {
          "output_type": "stream",
          "name": "stdout",
          "text": [
            "True\n",
            "False\n"
          ]
        }
      ]
    },
    {
      "cell_type": "markdown",
      "source": [
        "isspace() - returns true if  only spaces are present in string"
      ],
      "metadata": {
        "id": "Lj4Lot4PYFT2"
      }
    },
    {
      "cell_type": "code",
      "source": [
        "d=\"i have spaces\"\n",
        "d1=\"    \"\n",
        "print(d.isspace(),d)\n",
        "print(d1.isspace(),d1)"
      ],
      "metadata": {
        "colab": {
          "base_uri": "https://localhost:8080/"
        },
        "id": "WkK-9Iz_YMXM",
        "outputId": "09748714-20b2-4ae4-8b9d-3096dbf4a220"
      },
      "execution_count": 106,
      "outputs": [
        {
          "output_type": "stream",
          "name": "stdout",
          "text": [
            "False i have spaces\n",
            "True     \n"
          ]
        }
      ]
    },
    {
      "cell_type": "markdown",
      "source": [
        "istitle() returns true if first letter of each word in string is capital"
      ],
      "metadata": {
        "id": "s3LP4YbCYnwp"
      }
    },
    {
      "cell_type": "code",
      "source": [
        "t='This Is Title'\n",
        "t1=\"This is not a title\"\n",
        "print(t.istitle(),t)\n",
        "print(t1.istitle(),t1)"
      ],
      "metadata": {
        "colab": {
          "base_uri": "https://localhost:8080/"
        },
        "id": "ZtdLWQBZYubV",
        "outputId": "e9ac668a-8ea4-45e0-e8e4-3da999850cfa"
      },
      "execution_count": 107,
      "outputs": [
        {
          "output_type": "stream",
          "name": "stdout",
          "text": [
            "True This Is Title\n",
            "False This is not a title\n"
          ]
        }
      ]
    },
    {
      "cell_type": "markdown",
      "source": [
        "swapcase() swaps lower case characters with upper and vice versa"
      ],
      "metadata": {
        "id": "gm9KqK3GaBK9"
      }
    },
    {
      "cell_type": "code",
      "source": [
        "s=\"SWAP swap UPPEr loweR\"\n",
        "print(s.swapcase(),\"\\n\",s,\"Original\")"
      ],
      "metadata": {
        "colab": {
          "base_uri": "https://localhost:8080/"
        },
        "id": "attiZrIGaGPu",
        "outputId": "e1d7b51b-2993-4fba-9833-e8d30fad7bc4"
      },
      "execution_count": 115,
      "outputs": [
        {
          "output_type": "stream",
          "name": "stdout",
          "text": [
            "swap SWAP uppeR LOWEr \n",
            " SWAP swap UPPEr loweR Original\n"
          ]
        }
      ]
    },
    {
      "cell_type": "markdown",
      "source": [
        "title() - converst all first letters to uppercase"
      ],
      "metadata": {
        "id": "OJLBE8Igakmu"
      }
    },
    {
      "cell_type": "code",
      "source": [
        "ti=\"this is title can you see?\"\n",
        "print(ti.title(),\"\\n\",ti,\"original\")"
      ],
      "metadata": {
        "colab": {
          "base_uri": "https://localhost:8080/"
        },
        "id": "ytSRnWSiapO2",
        "outputId": "2d95079c-cce1-4916-a60c-0d57f5679bc2"
      },
      "execution_count": 117,
      "outputs": [
        {
          "output_type": "stream",
          "name": "stdout",
          "text": [
            "This Is Title Can You See? \n",
            " this is title can you see? original\n"
          ]
        }
      ]
    }
  ]
}