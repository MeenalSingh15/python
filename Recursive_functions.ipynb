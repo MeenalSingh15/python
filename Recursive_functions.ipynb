{
  "nbformat": 4,
  "nbformat_minor": 0,
  "metadata": {
    "colab": {
      "provenance": []
    },
    "kernelspec": {
      "name": "python3",
      "display_name": "Python 3"
    },
    "language_info": {
      "name": "python"
    }
  },
  "cells": [
    {
      "cell_type": "markdown",
      "source": [
        "**Recursion **\n",
        "Recursion is a programming technique where a function calls itself in order to solve a problem. It's a fundamental concept in computer science and is often used to break down complex problems into simpler, more manageable subproblems.\n",
        "\n",
        "Recursion typically involves two main components:\n",
        "\n",
        "1-Base Case: This is the condition under which the recursion stops. It's the simplest case that doesn't require further recursion.\n",
        "\n",
        "2-Recursive Case: This is the case where the function calls itself with a modified input, moving closer to the base case. It's where the problem is broken down into smaller instances of the same problem.\n"
      ],
      "metadata": {
        "id": "-r_0GSxOKUvA"
      }
    },
    {
      "cell_type": "markdown",
      "source": [
        "Example 1-\n",
        "WAP to find factorial of a number using recursive function"
      ],
      "metadata": {
        "id": "2qxXbiB5KrlS"
      }
    },
    {
      "cell_type": "code",
      "source": [
        "def fac(n):\n",
        "  if n==0 or n==1:\n",
        "    return 1\n",
        "  else:\n",
        "    return n*fac(n-1) # recursion fac(n-1) again calls fac function\n",
        "\n",
        "print(fac(5))"
      ],
      "metadata": {
        "colab": {
          "base_uri": "https://localhost:8080/"
        },
        "id": "cke45kBoLJMn",
        "outputId": "6fda693c-1a01-4a46-a5ad-98b370b697e9"
      },
      "execution_count": 1,
      "outputs": [
        {
          "output_type": "stream",
          "name": "stdout",
          "text": [
            "120\n"
          ]
        }
      ]
    },
    {
      "cell_type": "markdown",
      "source": [
        "Write a recursive function in Python to compute the nth number in the Fibonacci sequence, where the first two numbers in the sequence are 0 and 1, and each subsequent number is the sum of the previous two.\n",
        "\n",
        "Note:\n",
        "\n",
        "1: The Fibonacci sequence is a type series where each number is the sum of the two that precede it.\n",
        "For example: 1, 1, 2, 3, 5, 8, etc.\n",
        "2: Give the input in the code itself.\n",
        "For example:\n",
        "Give the number as: 11"
      ],
      "metadata": {
        "id": "YGPErYRBLXyd"
      }
    },
    {
      "cell_type": "code",
      "execution_count": 3,
      "metadata": {
        "colab": {
          "base_uri": "https://localhost:8080/"
        },
        "id": "iRa77OowKKvy",
        "outputId": "52d27eeb-28f1-4a74-c654-8ba7ce559613"
      },
      "outputs": [
        {
          "output_type": "stream",
          "name": "stdout",
          "text": [
            "89\n"
          ]
        }
      ],
      "source": [
        "def fib(n):\n",
        "  if n<=1 :\n",
        "    return n\n",
        "  else:\n",
        "    return fib(n-1)+fib(n-2) # recursion\n",
        "\n",
        "print(fib(11))"
      ]
    }
  ]
}