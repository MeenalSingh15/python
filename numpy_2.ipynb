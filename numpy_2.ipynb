{
  "nbformat": 4,
  "nbformat_minor": 0,
  "metadata": {
    "colab": {
      "provenance": []
    },
    "kernelspec": {
      "name": "python3",
      "display_name": "Python 3"
    },
    "language_info": {
      "name": "python"
    }
  },
  "cells": [
    {
      "cell_type": "markdown",
      "source": [
        "**Axis wise operation**\n",
        "\n",
        "\n",
        "\n",
        "running vertically downwards across rows (axis 0),\n",
        "\n",
        "and the second running horizontally across columns (axis 1)."
      ],
      "metadata": {
        "id": "ZFHEqKARpC5q"
      }
    },
    {
      "cell_type": "code",
      "source": [
        "import numpy as np\n",
        "a=np.array(np.arange(1,45,5).reshape(3,3))\n",
        "print(a,'\\n')\n",
        "print(a.sum(),'sum of all values \\n')# prints sum of all values\n",
        "print(a.sum(axis=0),'sum row wise \\n')\n",
        "print(a.sum(axis=1),'sum column wise \\n')"
      ],
      "metadata": {
        "colab": {
          "base_uri": "https://localhost:8080/"
        },
        "id": "pmSLauhhpCMu",
        "outputId": "476658bf-4946-449a-e8fa-fc516264fc45"
      },
      "execution_count": 1,
      "outputs": [
        {
          "output_type": "stream",
          "name": "stdout",
          "text": [
            "[[ 1  6 11]\n",
            " [16 21 26]\n",
            " [31 36 41]] \n",
            "\n",
            "189 sum of all values \n",
            "\n",
            "[48 63 78] sum row wise \n",
            "\n",
            "[ 18  63 108] sum column wise \n",
            "\n"
          ]
        }
      ]
    },
    {
      "cell_type": "code",
      "source": [
        "print(a,'\\n')\n",
        "print(a.mean(),' mean of all values \\n')# prints sum of all values\n",
        "print(a.mean(axis=0),'mean row wise \\n')\n",
        "print(a.mean(axis=1),' Mean column wise \\n')"
      ],
      "metadata": {
        "id": "qPmdBb2Gq05M",
        "colab": {
          "base_uri": "https://localhost:8080/"
        },
        "outputId": "fd0f04a1-2f1e-4bad-96f9-5a8d7a2cf482"
      },
      "execution_count": 2,
      "outputs": [
        {
          "output_type": "stream",
          "name": "stdout",
          "text": [
            "[[ 1  6 11]\n",
            " [16 21 26]\n",
            " [31 36 41]] \n",
            "\n",
            "21.0  mean of all values \n",
            "\n",
            "[16. 21. 26.] mean row wise \n",
            "\n",
            "[ 6. 21. 36.]  Mean column wise \n",
            "\n"
          ]
        }
      ]
    },
    {
      "cell_type": "markdown",
      "source": [
        "**Stacking**"
      ],
      "metadata": {
        "id": "uOirzEEOjm9e"
      }
    },
    {
      "cell_type": "markdown",
      "source": [
        "numpy.concatenate((a1, a2, ...), axis=0, out=None, dtype=None, casting=\"same_kind\")\n",
        "\n",
        "\n",
        "Join a sequence of arrays along an existing axis.\n",
        "\n",
        "T in Python is used to obtain the transpose of a given array. Transpose: The transpose of a matrix is the process of interchanging the row of a matrix with the column and vice-versa."
      ],
      "metadata": {
        "id": "g5RoVIJukaKx"
      }
    },
    {
      "cell_type": "code",
      "execution_count": 3,
      "metadata": {
        "colab": {
          "base_uri": "https://localhost:8080/"
        },
        "id": "_j5AYLLojarF",
        "outputId": "87ecfbb7-f0e0-42e9-d69d-c1f196499603"
      },
      "outputs": [
        {
          "output_type": "stream",
          "name": "stdout",
          "text": [
            "[[0 0 0 0 0]\n",
            " [0 0 0 0 0]\n",
            " [0 0 0 0 0]\n",
            " [0 0 0 0 0]\n",
            " [0 0 0 0 0]\n",
            " [1 1 1 1 1]\n",
            " [1 1 1 1 1]\n",
            " [1 1 1 1 1]\n",
            " [1 1 1 1 1]\n",
            " [1 1 1 1 1]] axis=0 row wise \n",
            "\n",
            "[[0 0 0 0 0 1 1 1 1 1]\n",
            " [0 0 0 0 0 1 1 1 1 1]\n",
            " [0 0 0 0 0 1 1 1 1 1]\n",
            " [0 0 0 0 0 1 1 1 1 1]\n",
            " [0 0 0 0 0 1 1 1 1 1]] axis=1 column wise \n",
            "\n",
            "[[0 0 0 0 0 1]\n",
            " [0 0 0 0 0 1]\n",
            " [0 0 0 0 0 1]\n",
            " [0 0 0 0 0 1]\n",
            " [0 0 0 0 0 1]] axis=1 column wise same number of columns different row number use T Transpose \n",
            "\n",
            "[0 0 0 0 0 0 0 0 0 0 0 0 0 0 0 0 0 0 0 0 0 0 0 0 0 1 1 1 1 1 1 1 1 1 1 1 1\n",
            " 1 1 1 1 1 1 1 1 1 1 1 1 1] axis=o results in 1-D array \n",
            "\n"
          ]
        }
      ],
      "source": [
        "# we can use concatenate(),to add the two arrays but the shape should align for code to execute\n",
        "import numpy as np\n",
        "a=np.array([[0,0,0,0,0],[0,0,0,0,0],[0,0,0,0,0],[0,0,0,0,0],[0,0,0,0,0]])\n",
        "b=np.array([[1,1,1,1,1],[1,1,1,1,1],[1,1,1,1,1],[1,1,1,1,1],[1,1,1,1,1]])\n",
        "print(np.concatenate((a, b), axis=0),'axis=0 row wise','\\n')# adds the other array row wise\n",
        "print(np.concatenate((a, b), axis=1),'axis=1 column wise','\\n')\n",
        "\n",
        "b1=np.array([[1,1,1,1,1]])\n",
        "print(np.concatenate((a, b1.T), axis=1),'axis=1 column wise same number of columns different row number use T Transpose','\\n')\n",
        "print(np.concatenate((a, b), axis=None),'axis=o results in 1-D array','\\n')\n"
      ]
    },
    {
      "cell_type": "markdown",
      "source": [
        "**Ravel**\n",
        "\n",
        "flattens any array to a 1-d array"
      ],
      "metadata": {
        "id": "CadwdaF4xZn8"
      }
    },
    {
      "cell_type": "code",
      "source": [
        "print(a.ravel())\n",
        "print(a.reshape(-1))# can also use reshape to flatten"
      ],
      "metadata": {
        "colab": {
          "base_uri": "https://localhost:8080/"
        },
        "id": "2_diOtMnxg4p",
        "outputId": "ab211eab-8a90-4931-b6d4-a83560aff178"
      },
      "execution_count": 4,
      "outputs": [
        {
          "output_type": "stream",
          "name": "stdout",
          "text": [
            "[0 0 0 0 0 0 0 0 0 0 0 0 0 0 0 0 0 0 0 0 0 0 0 0 0]\n",
            "[0 0 0 0 0 0 0 0 0 0 0 0 0 0 0 0 0 0 0 0 0 0 0 0 0]\n"
          ]
        }
      ]
    },
    {
      "cell_type": "markdown",
      "source": [
        "**Split**\n",
        "\n",
        "splits array into equal number of arrays"
      ],
      "metadata": {
        "id": "Igt6KbhtyC_O"
      }
    },
    {
      "cell_type": "code",
      "source": [
        "a1=np.array([[1,2,3,4,5],[6,7,8,9,10]])\n",
        "print(np.split(a1,2),\"splits into two \\n\")\n",
        "print(np.split(a1,5,axis=1),'each column gets separated \\n')\n"
      ],
      "metadata": {
        "colab": {
          "base_uri": "https://localhost:8080/"
        },
        "id": "VJKe3cmKyKc2",
        "outputId": "5792d8d0-f4cd-454a-af87-9fd07b5d368e"
      },
      "execution_count": 5,
      "outputs": [
        {
          "output_type": "stream",
          "name": "stdout",
          "text": [
            "[array([[1, 2, 3, 4, 5]]), array([[ 6,  7,  8,  9, 10]])] splits into two \n",
            "\n",
            "[array([[1],\n",
            "       [6]]), array([[2],\n",
            "       [7]]), array([[3],\n",
            "       [8]]), array([[4],\n",
            "       [9]]), array([[ 5],\n",
            "       [10]])] each column gets separated \n",
            "\n"
          ]
        }
      ]
    },
    {
      "cell_type": "code",
      "source": [
        "a2=np.array([[[1,2,3,4,5],\n",
        "              [1,2,3,4,5],\n",
        "              [1,2,3,4,5]],\n",
        "\n",
        "             [[2,2,2,2,2],\n",
        "             [2,2,2,2,2],\n",
        "             [2,2,2,2,2]],\n",
        "\n",
        "             np.full((3,5),3)])\n",
        "print(a2,'\\n')\n",
        "print(np.split(a2,3,axis=0),'\\n')\n",
        "print(np.hsplit(a2,3),'\\n Takes each row from 2-d arrays inside 3-d array')\n",
        "print(np.vsplit(a2,3),'\\n Takes each block')"
      ],
      "metadata": {
        "colab": {
          "base_uri": "https://localhost:8080/"
        },
        "id": "2U1ADorvy-Ee",
        "outputId": "94c31e19-55c5-4c39-d03e-f4f1b3b5bdae"
      },
      "execution_count": 6,
      "outputs": [
        {
          "output_type": "stream",
          "name": "stdout",
          "text": [
            "[[[1 2 3 4 5]\n",
            "  [1 2 3 4 5]\n",
            "  [1 2 3 4 5]]\n",
            "\n",
            " [[2 2 2 2 2]\n",
            "  [2 2 2 2 2]\n",
            "  [2 2 2 2 2]]\n",
            "\n",
            " [[3 3 3 3 3]\n",
            "  [3 3 3 3 3]\n",
            "  [3 3 3 3 3]]] \n",
            "\n",
            "[array([[[1, 2, 3, 4, 5],\n",
            "        [1, 2, 3, 4, 5],\n",
            "        [1, 2, 3, 4, 5]]]), array([[[2, 2, 2, 2, 2],\n",
            "        [2, 2, 2, 2, 2],\n",
            "        [2, 2, 2, 2, 2]]]), array([[[3, 3, 3, 3, 3],\n",
            "        [3, 3, 3, 3, 3],\n",
            "        [3, 3, 3, 3, 3]]])] \n",
            "\n",
            "[array([[[1, 2, 3, 4, 5]],\n",
            "\n",
            "       [[2, 2, 2, 2, 2]],\n",
            "\n",
            "       [[3, 3, 3, 3, 3]]]), array([[[1, 2, 3, 4, 5]],\n",
            "\n",
            "       [[2, 2, 2, 2, 2]],\n",
            "\n",
            "       [[3, 3, 3, 3, 3]]]), array([[[1, 2, 3, 4, 5]],\n",
            "\n",
            "       [[2, 2, 2, 2, 2]],\n",
            "\n",
            "       [[3, 3, 3, 3, 3]]])] \n",
            " Takes each row from 2-d arrays inside 3-d array\n",
            "[array([[[1, 2, 3, 4, 5],\n",
            "        [1, 2, 3, 4, 5],\n",
            "        [1, 2, 3, 4, 5]]]), array([[[2, 2, 2, 2, 2],\n",
            "        [2, 2, 2, 2, 2],\n",
            "        [2, 2, 2, 2, 2]]]), array([[[3, 3, 3, 3, 3],\n",
            "        [3, 3, 3, 3, 3],\n",
            "        [3, 3, 3, 3, 3]]])] \n",
            " Takes each block\n"
          ]
        }
      ]
    },
    {
      "cell_type": "code",
      "source": [
        "arr=np.array([[1,2,3],[1,2,3]])\n",
        "arr.T\n",
        "arr3=np.array([[[1,2,3],\n",
        "               [1,2,3]],\n",
        "              [[1,2,3],[1,2,3]\n",
        "               ]])\n",
        "print(arr3,'\\n')\n",
        "print(arr3.T)"
      ],
      "metadata": {
        "id": "CsChX-GPnFh9",
        "colab": {
          "base_uri": "https://localhost:8080/"
        },
        "outputId": "2bdc3978-2186-44f2-df88-b6ea0cc2bec2"
      },
      "execution_count": 10,
      "outputs": [
        {
          "output_type": "stream",
          "name": "stdout",
          "text": [
            "[[[1 2 3]\n",
            "  [1 2 3]]\n",
            "\n",
            " [[1 2 3]\n",
            "  [1 2 3]]] \n",
            "\n",
            "[[[1 1]\n",
            "  [1 1]]\n",
            "\n",
            " [[2 2]\n",
            "  [2 2]]\n",
            "\n",
            " [[3 3]\n",
            "  [3 3]]]\n"
          ]
        }
      ]
    },
    {
      "cell_type": "markdown",
      "source": [
        "**numpy.stack**\n",
        "\n",
        "\n",
        "numpy.stack(arrays, axis=0, out=None, *, dtype=None, casting='same_kind')\n",
        "\n",
        "\n",
        "Join a sequence of arrays along a new axis.\n",
        "\n",
        "The axis parameter specifies the index of the new axis in the dimensions of the result. For example, if axis=0 it will be the first dimension and if axis=-1 it will be the last dimension."
      ],
      "metadata": {
        "id": "lIQKNZxjn_Q0"
      }
    },
    {
      "cell_type": "code",
      "source": [
        "# input array\n",
        "a = np.array([1, 2, 3])\n",
        "b = np.array([4, 5, 6])\n",
        "\n",
        "# Stacking 2 1-d arrays\n",
        "c = np.stack((a, b),axis=0)\n",
        "c1 = np.stack((a, b),axis=1)\n",
        "print(c,'\\n \\n',c1,'\\n \\n')\n",
        "#stacking 2 arrays along -1 axis\n",
        "c2=np.stack((a,b),axis=-1)\n",
        "print(c2)"
      ],
      "metadata": {
        "colab": {
          "base_uri": "https://localhost:8080/"
        },
        "id": "87UPTtIgD9f_",
        "outputId": "8a275996-9427-49f0-cd0d-083f9df764eb"
      },
      "execution_count": 15,
      "outputs": [
        {
          "output_type": "stream",
          "name": "stdout",
          "text": [
            "[[1 2 3]\n",
            " [4 5 6]] \n",
            " \n",
            " [[1 4]\n",
            " [2 5]\n",
            " [3 6]] \n",
            " \n",
            "\n",
            "[[1 4]\n",
            " [2 5]\n",
            " [3 6]]\n"
          ]
        }
      ]
    },
    {
      "cell_type": "markdown",
      "source": [
        "**numpy.hstack()** function is used to stack the sequence of input arrays horizontally (i.e. column wise) to make a single array.\n",
        "\n",
        "\n",
        "Syntax : numpy.hstack(tup)\n",
        "\n",
        "Parameters : tup : [sequence of ndarrays] Tuple containing arrays to be stacked. The arrays must have the same shape along all but the second axis. Return : [stacked ndarray] The stacked array of the input arrays."
      ],
      "metadata": {
        "id": "I_Tv-sJkFHoz"
      }
    },
    {
      "cell_type": "code",
      "source": [
        "# making 3 arrays to perform stack\n",
        "arr1=np.arange((9)).reshape(9)\n",
        "arr1d=arr1\n",
        "arr2=np.full((3,3),2,dtype=int)\n",
        "arr2d=arr2\n",
        "arr3=np.arange((27),dtype=int).reshape(3,3,3)\n",
        "arr3d=arr3"
      ],
      "metadata": {
        "id": "_3jWXQtoEjZZ"
      },
      "execution_count": 31,
      "outputs": []
    },
    {
      "cell_type": "code",
      "source": [
        "print(arr1,'\\n','\\n 1d array')\n",
        "print(arr2,'\\n','\\n 2d array')\n",
        "print(arr3,'\\n','\\n 3d array')\n"
      ],
      "metadata": {
        "colab": {
          "base_uri": "https://localhost:8080/"
        },
        "id": "LgUkRx3dIr-g",
        "outputId": "4e4ed71a-477f-4dc2-eaa0-89e6f8d2ebff"
      },
      "execution_count": 33,
      "outputs": [
        {
          "output_type": "stream",
          "name": "stdout",
          "text": [
            "[0 1 2 3 4 5 6 7 8] \n",
            " \n",
            " 1d array\n",
            "[[2 2 2]\n",
            " [2 2 2]\n",
            " [2 2 2]] \n",
            " \n",
            " 2d array\n",
            "[[[ 0  1  2]\n",
            "  [ 3  4  5]\n",
            "  [ 6  7  8]]\n",
            "\n",
            " [[ 9 10 11]\n",
            "  [12 13 14]\n",
            "  [15 16 17]]\n",
            "\n",
            " [[18 19 20]\n",
            "  [21 22 23]\n",
            "  [24 25 26]]] \n",
            " \n",
            " 3d array\n"
          ]
        }
      ]
    },
    {
      "cell_type": "code",
      "source": [
        "print(np.hstack((arr1, arr1d)),'\\n ')\n",
        "print(np.vstack((arr1,arr1d)))"
      ],
      "metadata": {
        "colab": {
          "base_uri": "https://localhost:8080/"
        },
        "id": "JgAJ9QzmGKnA",
        "outputId": "95aa890e-ac90-4db2-9b36-783e07ab6355"
      },
      "execution_count": 34,
      "outputs": [
        {
          "output_type": "stream",
          "name": "stdout",
          "text": [
            "[0 1 2 3 4 5 6 7 8 0 1 2 3 4 5 6 7 8] \n",
            " \n",
            "[[0 1 2 3 4 5 6 7 8]\n",
            " [0 1 2 3 4 5 6 7 8]]\n"
          ]
        }
      ]
    },
    {
      "cell_type": "code",
      "source": [
        "print(np.hstack((arr2,arr2d)),'\\n')\n",
        "print(np.vstack((arr2,arr2d)),'\\n')"
      ],
      "metadata": {
        "colab": {
          "base_uri": "https://localhost:8080/"
        },
        "id": "ARwCI5yMIVVW",
        "outputId": "f5790823-1664-4233-930b-ab2b0b8cd8f5"
      },
      "execution_count": 35,
      "outputs": [
        {
          "output_type": "stream",
          "name": "stdout",
          "text": [
            "[[2 2 2 2 2 2]\n",
            " [2 2 2 2 2 2]\n",
            " [2 2 2 2 2 2]] \n",
            "\n",
            "[[2 2 2]\n",
            " [2 2 2]\n",
            " [2 2 2]\n",
            " [2 2 2]\n",
            " [2 2 2]\n",
            " [2 2 2]] \n",
            "\n"
          ]
        }
      ]
    },
    {
      "cell_type": "code",
      "source": [
        "print(np.hstack((arr3,arr3d)),'\\n Hstack')\n",
        "print(np.vstack((arr3,arr3d)),'\\n Vstack')\n",
        "vstack=np.vstack((arr3,arr3d))\n",
        "print(vstack.shape,'vstack shape')\n",
        "hstack=np.hstack((arr3,arr3d))\n",
        "print(hstack.shape,'hstack shape')\n"
      ],
      "metadata": {
        "colab": {
          "base_uri": "https://localhost:8080/"
        },
        "id": "Q0cJThqsIe9c",
        "outputId": "498ea85b-aaeb-471e-e785-21e5d48dc158"
      },
      "execution_count": 40,
      "outputs": [
        {
          "output_type": "stream",
          "name": "stdout",
          "text": [
            "[[[ 0  1  2]\n",
            "  [ 3  4  5]\n",
            "  [ 6  7  8]\n",
            "  [ 0  1  2]\n",
            "  [ 3  4  5]\n",
            "  [ 6  7  8]]\n",
            "\n",
            " [[ 9 10 11]\n",
            "  [12 13 14]\n",
            "  [15 16 17]\n",
            "  [ 9 10 11]\n",
            "  [12 13 14]\n",
            "  [15 16 17]]\n",
            "\n",
            " [[18 19 20]\n",
            "  [21 22 23]\n",
            "  [24 25 26]\n",
            "  [18 19 20]\n",
            "  [21 22 23]\n",
            "  [24 25 26]]] \n",
            " Hstack\n",
            "[[[ 0  1  2]\n",
            "  [ 3  4  5]\n",
            "  [ 6  7  8]]\n",
            "\n",
            " [[ 9 10 11]\n",
            "  [12 13 14]\n",
            "  [15 16 17]]\n",
            "\n",
            " [[18 19 20]\n",
            "  [21 22 23]\n",
            "  [24 25 26]]\n",
            "\n",
            " [[ 0  1  2]\n",
            "  [ 3  4  5]\n",
            "  [ 6  7  8]]\n",
            "\n",
            " [[ 9 10 11]\n",
            "  [12 13 14]\n",
            "  [15 16 17]]\n",
            "\n",
            " [[18 19 20]\n",
            "  [21 22 23]\n",
            "  [24 25 26]]] \n",
            " Vstack\n",
            "(6, 3, 3) vstack shape\n",
            "(3, 6, 3) hstack shape\n"
          ]
        }
      ]
    },
    {
      "cell_type": "markdown",
      "source": [
        "**Random**"
      ],
      "metadata": {
        "id": "BkOlF4aLMM6v"
      }
    },
    {
      "cell_type": "code",
      "source": [
        "# randn() gives random values with normal distribution\n",
        "r1=np.random.randn(3,3)\n",
        "r1"
      ],
      "metadata": {
        "colab": {
          "base_uri": "https://localhost:8080/"
        },
        "id": "8l5FlRokMQjr",
        "outputId": "c8940ef1-9782-4349-d3bc-d7b48af7944d"
      },
      "execution_count": 41,
      "outputs": [
        {
          "output_type": "execute_result",
          "data": {
            "text/plain": [
              "array([[ 0.39880517, -0.63951773, -0.64379356],\n",
              "       [-0.22951623, -1.66690254, -2.17849265],\n",
              "       [-0.49333338,  0.25847501, -0.1436023 ]])"
            ]
          },
          "metadata": {},
          "execution_count": 41
        }
      ]
    },
    {
      "cell_type": "code",
      "source": [
        "# sample() gives unifromly distributed data between 0 and 1\n",
        "r2=np.random.sample((3,3))\n",
        "r2"
      ],
      "metadata": {
        "colab": {
          "base_uri": "https://localhost:8080/"
        },
        "id": "_sVql26iMjRa",
        "outputId": "0a169438-d4a9-4570-b90a-9a63c636130c"
      },
      "execution_count": 45,
      "outputs": [
        {
          "output_type": "execute_result",
          "data": {
            "text/plain": [
              "array([[0.54120286, 0.31682929, 0.05611928],\n",
              "       [0.64362285, 0.17373993, 0.95533871],\n",
              "       [0.10561406, 0.19528939, 0.89450853]])"
            ]
          },
          "metadata": {},
          "execution_count": 45
        }
      ]
    },
    {
      "cell_type": "code",
      "source": [
        "# randint gives random values that are integer between a specified start and end position\n",
        "r3=np.random.randint(10,30,(3,3))\n",
        "r3"
      ],
      "metadata": {
        "colab": {
          "base_uri": "https://localhost:8080/"
        },
        "id": "aRvxUo9XNCfR",
        "outputId": "fb915a8d-e423-4368-9dcc-40bfed66171c"
      },
      "execution_count": 48,
      "outputs": [
        {
          "output_type": "execute_result",
          "data": {
            "text/plain": [
              "array([[10, 16, 11],\n",
              "       [15, 27, 24],\n",
              "       [28, 29, 10]])"
            ]
          },
          "metadata": {},
          "execution_count": 48
        }
      ]
    },
    {
      "cell_type": "code",
      "source": [
        "# get random number from a list or tuple\n",
        "x = np.random.choice([3, 5, 7, 9])\n",
        "\n",
        "print(x)"
      ],
      "metadata": {
        "colab": {
          "base_uri": "https://localhost:8080/"
        },
        "id": "w-JFzVL_N2T0",
        "outputId": "4e14a227-75eb-427a-d1db-c8a3aa777146"
      },
      "execution_count": 51,
      "outputs": [
        {
          "output_type": "stream",
          "name": "stdout",
          "text": [
            "3\n"
          ]
        }
      ]
    },
    {
      "cell_type": "code",
      "source": [
        "# can also make an array using choice\n",
        "x = np.random.choice([3, 5, 7, 9], size=(3, 5))\n",
        "\n",
        "print(x)"
      ],
      "metadata": {
        "colab": {
          "base_uri": "https://localhost:8080/"
        },
        "id": "rbnIrJQDOAoW",
        "outputId": "b147da1d-8a0e-423b-f6af-a7db43992b65"
      },
      "execution_count": 53,
      "outputs": [
        {
          "output_type": "stream",
          "name": "stdout",
          "text": [
            "[[5 9 7 3 5]\n",
            " [3 3 9 5 3]\n",
            " [5 7 9 7 9]]\n"
          ]
        }
      ]
    },
    {
      "cell_type": "markdown",
      "source": [
        "# Seed\n",
        "\n",
        "The numpy random **seed** is a numerical value that generates a new set or repeats pseudo-random numbers. The value in the numpy random seed saves the state of randomness. If we call the seed function using value 1 multiple times, the computer displays the same random numbers."
      ],
      "metadata": {
        "id": "FCsub-BQObVO"
      }
    },
    {
      "cell_type": "code",
      "source": [
        "np.random.seed(1)\n",
        "a=np.random.randint(10,50,(3,6))\n",
        "print(a)"
      ],
      "metadata": {
        "colab": {
          "base_uri": "https://localhost:8080/"
        },
        "id": "XXV63jMjONsQ",
        "outputId": "49014bf8-52ac-4f16-8771-50e9fdbb3cb9"
      },
      "execution_count": 57,
      "outputs": [
        {
          "output_type": "stream",
          "name": "stdout",
          "text": [
            "[[47 22 18 19 21 15]\n",
            " [25 10 26 11 22 17]\n",
            " [16 35 30 47 28 30]]\n"
          ]
        }
      ]
    }
  ]
}