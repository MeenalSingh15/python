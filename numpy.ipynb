{
  "nbformat": 4,
  "nbformat_minor": 0,
  "metadata": {
    "colab": {
      "provenance": []
    },
    "kernelspec": {
      "name": "python3",
      "display_name": "Python 3"
    },
    "language_info": {
      "name": "python"
    }
  },
  "cells": [
    {
      "cell_type": "markdown",
      "source": [
        "**NumPy**, short for Numerical Python, is a powerful library in Python used for numerical computing.\n",
        "It provides support for large, multi-dimensional arrays and matrices, along with a collection of mathematical functions to operate on these arrays.\n",
        "We can install numpy in python using:\n",
        "\n",
        "pip install numpy\n",
        "\n",
        "\n",
        "The primary data structure in NumPy is the ndarray (n-dimensional array).\n",
        "Also numpy has a built in data type matrix .\n",
        "Vector and scaler are just assumed for easy understanding"
      ],
      "metadata": {
        "id": "uxlemCmyLvR3"
      }
    },
    {
      "cell_type": "markdown",
      "source": [
        "![image.png](data:image/png;base64,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)"
      ],
      "metadata": {
        "id": "bcA0NZOzMFmV"
      }
    },
    {
      "cell_type": "code",
      "execution_count": 2,
      "metadata": {
        "colab": {
          "base_uri": "https://localhost:8080/"
        },
        "id": "YCoTD6Q2Lgps",
        "outputId": "852ce8c0-11c1-40a4-e31f-e3e03148c440"
      },
      "outputs": [
        {
          "output_type": "stream",
          "name": "stdout",
          "text": [
            "[1 2 3 4]\n",
            "<class 'numpy.ndarray'>\n",
            "1\n",
            "[[1 2 3 4 5]]\n",
            "[[1]\n",
            " [2]\n",
            " [3]\n",
            " [4]\n",
            " [5]]\n"
          ]
        }
      ],
      "source": [
        "import numpy as np # giving alias np to module numpy\n",
        "a=np.array([1,2,3,4])# creating an array\n",
        "print(a)\n",
        "print(type(a))# tells us a is an array\n",
        "print(a.ndim)# gives dimentions of an array (row,column,block)\n",
        "b=np.array([[1,2,3,4,5]])\n",
        "print(b)\n",
        "print(b.T)# converts row vector to column vector"
      ]
    },
    {
      "cell_type": "code",
      "source": [
        "# Difeerence from list\n",
        "a=[1,2,3,4,5,6]\n",
        "b=[1,2,3,4]\n",
        "#  if we use+ operator both list concats\n",
        "print(a+b,'List a+b')\n",
        "# suppose we had to add each index with corresponding index we cannot do it with a list directly we'd have to use loops\n",
        "#  we cannot do a-b,a/b ,etc using list\n",
        "a1=np.array([1,2,3,4,5])\n",
        "b1=np.array([1,2,3,4,5])\n",
        "print(a1+b1,'array a1+b1')\n",
        "print(a1-b1,'array a1-b1')\n",
        "print(a1/b1,\"array a1/b1\")"
      ],
      "metadata": {
        "colab": {
          "base_uri": "https://localhost:8080/"
        },
        "id": "iM72Fdz_Osly",
        "outputId": "df4838df-96e0-44eb-f3ef-11cc7fa68a0e"
      },
      "execution_count": 7,
      "outputs": [
        {
          "output_type": "stream",
          "name": "stdout",
          "text": [
            "[1, 2, 3, 4, 5, 6, 1, 2, 3, 4] List a+b\n",
            "[ 2  4  6  8 10] array a1+b1\n",
            "[0 0 0 0 0] array a1-b1\n",
            "[1. 1. 1. 1. 1.] array a1/b1\n"
          ]
        }
      ]
    },
    {
      "cell_type": "code",
      "source": [
        "#  can do complex problems using array\n",
        "# area of circle using array\n",
        "r=np.array([1,2,3,4,5])\n",
        "import math\n",
        "area=list(3.14*(r**2))\n",
        "print(area)"
      ],
      "metadata": {
        "colab": {
          "base_uri": "https://localhost:8080/"
        },
        "id": "q1pRYbiMQHAZ",
        "outputId": "38a148e5-cc92-4a3d-ea0f-ee9ed6b08dc1"
      },
      "execution_count": 22,
      "outputs": [
        {
          "output_type": "stream",
          "name": "stdout",
          "text": [
            "[3.14, 12.56, 28.26, 50.24, 78.5]\n"
          ]
        }
      ]
    },
    {
      "cell_type": "markdown",
      "source": [
        "**Matrix**\n",
        "\n",
        "(Rows,Columns)\n",
        "\n"
      ],
      "metadata": {
        "id": "fk2X2Q9_N7ao"
      }
    },
    {
      "cell_type": "code",
      "source": [
        "c=np.matrix([[1,2,3,4],\n",
        "             [1,1,1,1]])\n",
        "print(type(c))\n",
        "print(c)\n",
        "print(c.ndim)"
      ],
      "metadata": {
        "colab": {
          "base_uri": "https://localhost:8080/"
        },
        "id": "qWIwHmm-NucY",
        "outputId": "51f26f9c-fc3d-4f14-fcc2-b1a9d3140b3a"
      },
      "execution_count": 11,
      "outputs": [
        {
          "output_type": "stream",
          "name": "stdout",
          "text": [
            "<class 'numpy.matrix'>\n",
            "[[1 2 3 4]\n",
            " [1 1 1 1]]\n",
            "2\n"
          ]
        }
      ]
    },
    {
      "cell_type": "code",
      "source": [
        "d=np.array([[1,2,3,4],\n",
        "            [1,1,1,1]])\n",
        "print(type(d))\n",
        "print(d)\n",
        "print(d.ndim)"
      ],
      "metadata": {
        "colab": {
          "base_uri": "https://localhost:8080/"
        },
        "id": "5rHwJJ7yOEPF",
        "outputId": "2d276cc3-8906-47a6-a115-24fc942798db"
      },
      "execution_count": 12,
      "outputs": [
        {
          "output_type": "stream",
          "name": "stdout",
          "text": [
            "<class 'numpy.ndarray'>\n",
            "[[1 2 3 4]\n",
            " [1 1 1 1]]\n",
            "2\n"
          ]
        }
      ]
    },
    {
      "cell_type": "markdown",
      "source": [
        "array.shape - Functions tells us about the number of rows and columns and blocks in an array or matrix"
      ],
      "metadata": {
        "id": "dstDq67-O3SG"
      }
    },
    {
      "cell_type": "code",
      "source": [
        "print(c)\n",
        "print(c.shape)\n",
        "print(type(c))"
      ],
      "metadata": {
        "colab": {
          "base_uri": "https://localhost:8080/"
        },
        "id": "vtDkZ-bKO2gk",
        "outputId": "07f1d348-db39-4f55-e17c-a381b03b37c4"
      },
      "execution_count": null,
      "outputs": [
        {
          "output_type": "stream",
          "name": "stdout",
          "text": [
            "[[1 2 3 4]\n",
            " [1 1 1 1]]\n",
            "(2, 4)\n",
            "<class 'numpy.matrix'>\n"
          ]
        }
      ]
    },
    {
      "cell_type": "code",
      "source": [
        "print(d)\n",
        "print(d.shape)# (Rows,Columns)\n",
        "print(type(d))"
      ],
      "metadata": {
        "colab": {
          "base_uri": "https://localhost:8080/"
        },
        "id": "JDQnK34bOmzT",
        "outputId": "124714fe-dbb8-4494-a94a-2bc9211868a3"
      },
      "execution_count": null,
      "outputs": [
        {
          "output_type": "stream",
          "name": "stdout",
          "text": [
            "[[1 2 3 4]\n",
            " [1 1 1 1]]\n",
            "(2, 4)\n",
            "<class 'numpy.ndarray'>\n"
          ]
        }
      ]
    },
    {
      "cell_type": "code",
      "source": [
        "# how to make 2-D array\n",
        "arr2=np.array([[1,2,3,4],\n",
        "               [1,2,3,4]])# one dimention in one square brackets and 2 dimention in two square brackets\n",
        "print(arr2)\n",
        "print(arr2.ndim)"
      ],
      "metadata": {
        "colab": {
          "base_uri": "https://localhost:8080/"
        },
        "id": "q958-DnzPd3O",
        "outputId": "2971e11e-11b1-4487-bc8e-c53afe0b8e24"
      },
      "execution_count": 20,
      "outputs": [
        {
          "output_type": "stream",
          "name": "stdout",
          "text": [
            "[[1 2 3 4]\n",
            " [1 2 3 4]]\n",
            "2\n"
          ]
        }
      ]
    },
    {
      "cell_type": "code",
      "source": [
        "arr3d=np.arrayarr3d = np.array([[[1, 2, 3, 4, 5],\n",
        "                                 [1, 2, 3, 4, 5],\n",
        "                                  [1,2,3,4,5]],\n",
        "\n",
        "                                 [[1, 2, 3, 4, 5],\n",
        "                                  [1, 2, 3, 4, 5],\n",
        "                                   [1, 2, 3, 4, 5]]])\n",
        "print(arr3d)\n",
        "print(arr3d.shape)#blocks,rows,columns\n",
        "print(arr3d.ndim)\n",
        "print(arr3d.size)# gives total number of values"
      ],
      "metadata": {
        "colab": {
          "base_uri": "https://localhost:8080/"
        },
        "id": "760DKAPvReqC",
        "outputId": "20d33141-84d9-44b4-cc79-957e28fea156"
      },
      "execution_count": 21,
      "outputs": [
        {
          "output_type": "stream",
          "name": "stdout",
          "text": [
            "[[[1 2 3 4 5]\n",
            "  [1 2 3 4 5]\n",
            "  [1 2 3 4 5]]\n",
            "\n",
            " [[1 2 3 4 5]\n",
            "  [1 2 3 4 5]\n",
            "  [1 2 3 4 5]]]\n",
            "(2, 3, 5)\n",
            "3\n",
            "30\n"
          ]
        }
      ]
    },
    {
      "cell_type": "markdown",
      "source": [
        "len()\n",
        "\n",
        "For 1 -D - gives total number of elements\n",
        "\n",
        "For 2 -D - gives total number of rows\n",
        "\n",
        "For 3 -D - gives total number of blocks\n"
      ],
      "metadata": {
        "id": "MghT3fcfS8uz"
      }
    },
    {
      "cell_type": "code",
      "source": [
        "arr1=np.array([1,2,3,4,5])\n",
        "print(len(arr1),arr1.shape)\n",
        "print(len(arr2),arr2.shape)\n",
        "print(len(arr3),arr3.shape)"
      ],
      "metadata": {
        "colab": {
          "base_uri": "https://localhost:8080/"
        },
        "id": "ZR-jMILMTTJi",
        "outputId": "5da4e977-de99-47ba-8883-72790e53288e"
      },
      "execution_count": 23,
      "outputs": [
        {
          "output_type": "stream",
          "name": "stdout",
          "text": [
            "5 (5,)\n",
            "2 (2, 4)\n",
            "4 (4, 4, 4)\n"
          ]
        }
      ]
    },
    {
      "cell_type": "code",
      "source": [
        "# np.zeros(dimentions) creates an array filled with zero\n",
        "b=np.zeros((3,3))\n",
        "b"
      ],
      "metadata": {
        "colab": {
          "base_uri": "https://localhost:8080/"
        },
        "id": "3psothLnRfAY",
        "outputId": "a62b316a-2d2b-4e6e-a37e-5e0b6e2ed198"
      },
      "execution_count": null,
      "outputs": [
        {
          "output_type": "execute_result",
          "data": {
            "text/plain": [
              "array([[0., 0., 0.],\n",
              "       [0., 0., 0.],\n",
              "       [0., 0., 0.]])"
            ]
          },
          "metadata": {},
          "execution_count": 21
        }
      ]
    },
    {
      "cell_type": "code",
      "source": [
        "# np.ones creates array filled with one\n",
        "o=np.ones((3,4))\n",
        "print(o)\n",
        "oi=np.ones((3,4), dtype=int)\n",
        "print(oi)"
      ],
      "metadata": {
        "colab": {
          "base_uri": "https://localhost:8080/"
        },
        "id": "wJdMiAybSCvc",
        "outputId": "d2d70920-5494-4b09-950f-f7e81d324693"
      },
      "execution_count": null,
      "outputs": [
        {
          "output_type": "stream",
          "name": "stdout",
          "text": [
            "[[1. 1. 1. 1.]\n",
            " [1. 1. 1. 1.]\n",
            " [1. 1. 1. 1.]]\n",
            "[[1 1 1 1]\n",
            " [1 1 1 1]\n",
            " [1 1 1 1]]\n"
          ]
        }
      ]
    },
    {
      "cell_type": "code",
      "source": [
        "#  np.full creates an array filled with the value we provide\n",
        "f=np.full((3,3),15)\n",
        "print(f)\n",
        "f3=np.full((3,3,4),200)\n",
        "print(f3)"
      ],
      "metadata": {
        "colab": {
          "base_uri": "https://localhost:8080/"
        },
        "id": "eh8BkPuQSNKV",
        "outputId": "b055b863-fc16-4b26-a285-396ba13a3957"
      },
      "execution_count": null,
      "outputs": [
        {
          "output_type": "stream",
          "name": "stdout",
          "text": [
            "[[15 15 15]\n",
            " [15 15 15]\n",
            " [15 15 15]]\n",
            "[[[200 200 200 200]\n",
            "  [200 200 200 200]\n",
            "  [200 200 200 200]]\n",
            "\n",
            " [[200 200 200 200]\n",
            "  [200 200 200 200]\n",
            "  [200 200 200 200]]\n",
            "\n",
            " [[200 200 200 200]\n",
            "  [200 200 200 200]\n",
            "  [200 200 200 200]]]\n"
          ]
        }
      ]
    },
    {
      "cell_type": "code",
      "source": [
        "# np.arange(start,end,step) can also be used to fill an array just like using range funtion to fill values\n",
        "# in a particular range\n",
        "a=np.arange(10)\n",
        "print(a)\n",
        "b=np.arange(10,21,2)\n",
        "print(b)"
      ],
      "metadata": {
        "colab": {
          "base_uri": "https://localhost:8080/"
        },
        "id": "1ovuOm2CTOjP",
        "outputId": "aa2e3bbf-ee22-47b3-d667-3a015cc050b8"
      },
      "execution_count": null,
      "outputs": [
        {
          "output_type": "stream",
          "name": "stdout",
          "text": [
            "[0 1 2 3 4 5 6 7 8 9]\n",
            "[10 12 14 16 18 20]\n"
          ]
        }
      ]
    },
    {
      "cell_type": "markdown",
      "source": [
        "\n",
        "Certainly! You can use np.arange() to create a 3-dimensional array. Here's how you can do it:\n",
        "\n",
        "\n",
        "\n",
        "np.arange(value) creates a 1-dimensional array with values from 0 to value.\n",
        ".reshape((dimentions)) reshapes the 1-dimensional array into a 3-dimensional array with dimensions ."
      ],
      "metadata": {
        "id": "oxioSC7PT06q"
      }
    },
    {
      "cell_type": "code",
      "source": [
        "arr3=np.arange(64).reshape(4,4,4)\n",
        "print(arr3)\n",
        "print(len(arr3)) # tells us about the number of blocks"
      ],
      "metadata": {
        "colab": {
          "base_uri": "https://localhost:8080/"
        },
        "id": "oCVX2e7XUNF7",
        "outputId": "2d1eac64-506f-427c-a6d0-87f59f831245"
      },
      "execution_count": 19,
      "outputs": [
        {
          "output_type": "stream",
          "name": "stdout",
          "text": [
            "[[[ 0  1  2  3]\n",
            "  [ 4  5  6  7]\n",
            "  [ 8  9 10 11]\n",
            "  [12 13 14 15]]\n",
            "\n",
            " [[16 17 18 19]\n",
            "  [20 21 22 23]\n",
            "  [24 25 26 27]\n",
            "  [28 29 30 31]]\n",
            "\n",
            " [[32 33 34 35]\n",
            "  [36 37 38 39]\n",
            "  [40 41 42 43]\n",
            "  [44 45 46 47]]\n",
            "\n",
            " [[48 49 50 51]\n",
            "  [52 53 54 55]\n",
            "  [56 57 58 59]\n",
            "  [60 61 62 63]]]\n",
            "4\n"
          ]
        }
      ]
    },
    {
      "cell_type": "markdown",
      "source": [
        "**np.linspace()** is a function in NumPy that generates an array of evenly spaced numbers over a specified interval. The syntax for np.linspace() is as follows:\n",
        "\n",
        "\n",
        "np.linspace(start, stop, num=50, endpoint=True, retstep=False, dtype=None)\n",
        "Where:\n",
        "\n",
        "start: The starting value of the sequence.\n",
        "stop: The end value of the sequence.\n",
        "num: The number of samples to generate. Default is 50.\n",
        "endpoint: If True (default), stop is the last sample. Otherwise, it is not included.\n",
        "retstep: If True, return (samples, step), where step is the spacing between samples.\n",
        "dtype: The data type of the output array.\n",
        "The function returns an array of num evenly spaced samples, calculated over the closed interval [start, stop] or [start, stop] if endpoint is set to False."
      ],
      "metadata": {
        "id": "k-OOoR5oW9Kk"
      }
    },
    {
      "cell_type": "code",
      "source": [
        "x=np.linspace(1,10,9).reshape(3,3)\n",
        "print(x)\n"
      ],
      "metadata": {
        "colab": {
          "base_uri": "https://localhost:8080/"
        },
        "id": "x3Ap50dPXNRh",
        "outputId": "a42936f1-d40f-45b6-a04b-688013ade2da"
      },
      "execution_count": 18,
      "outputs": [
        {
          "output_type": "stream",
          "name": "stdout",
          "text": [
            "[[ 1.     2.125  3.25 ]\n",
            " [ 4.375  5.5    6.625]\n",
            " [ 7.75   8.875 10.   ]]\n"
          ]
        }
      ]
    },
    {
      "cell_type": "code",
      "source": [
        "# Generating an array of 10 samples from 1 to 10, including the endpoint, and returning the step\n",
        "array, step = np.linspace(1, 10, num=10, endpoint=True, retstep=True, dtype=float)\n",
        "\n",
        "print(\"Generated array:\", array)\n",
        "print(\"Step:\", step)"
      ],
      "metadata": {
        "colab": {
          "base_uri": "https://localhost:8080/"
        },
        "id": "lJOvxilTYYIh",
        "outputId": "9dfea70a-7f9b-470d-ae40-ebbbd2351518"
      },
      "execution_count": null,
      "outputs": [
        {
          "output_type": "stream",
          "name": "stdout",
          "text": [
            "Generated array: [ 1.  2.  3.  4.  5.  6.  7.  8.  9. 10.]\n",
            "Step: 1.0\n"
          ]
        }
      ]
    },
    {
      "cell_type": "code",
      "source": [
        "#  creating a 3d array using arange and linspace\n",
        "ar=np.array([[np.arange(16).reshape(4,4)],\n",
        "                  [np.linspace(0,20,16,dtype=int).reshape(4,4)]])\n",
        "print(ar)"
      ],
      "metadata": {
        "colab": {
          "base_uri": "https://localhost:8080/"
        },
        "id": "LDzI9esqYgBi",
        "outputId": "e662e8c7-a244-4f29-f517-1bf35dc0dd78"
      },
      "execution_count": null,
      "outputs": [
        {
          "output_type": "stream",
          "name": "stdout",
          "text": [
            "[[[[ 0  1  2  3]\n",
            "   [ 4  5  6  7]\n",
            "   [ 8  9 10 11]\n",
            "   [12 13 14 15]]]\n",
            "\n",
            "\n",
            " [[[ 0  1  2  4]\n",
            "   [ 5  6  8  9]\n",
            "   [10 12 13 14]\n",
            "   [16 17 18 20]]]]\n"
          ]
        }
      ]
    },
    {
      "cell_type": "markdown",
      "source": [
        "**Indexing , Slicing , Replacing , Boolean indexing in arrays**"
      ],
      "metadata": {
        "id": "zpKZ0YOIeowQ"
      }
    },
    {
      "cell_type": "code",
      "source": [
        "#  For 1-D array similar to list\n",
        "one_d=np.array([23,45,67,2,34,56])\n",
        "# get element 67\n",
        "print(\"at index 2: \",one_d[2])\n",
        "# slice from 2nd to 5th index\n",
        "print(\"from 2 to 5 index: \",one_d[2:6])\n",
        "# replace 45 with 54\n",
        "print(one_d,'original')\n",
        "one_d[1]=54\n",
        "print(one_d,'replace 45 with 54')"
      ],
      "metadata": {
        "colab": {
          "base_uri": "https://localhost:8080/"
        },
        "id": "YEog4Aa2RplB",
        "outputId": "9c1df3db-64bb-4087-fba7-8e4f369383e7"
      },
      "execution_count": 26,
      "outputs": [
        {
          "output_type": "stream",
          "name": "stdout",
          "text": [
            "at index 2:  67\n",
            "from 2 to 5 index:  [67  2 34 56]\n",
            "[23 45 67  2 34 56] original\n",
            "[23 54 67  2 34 56] replace 45 with 54\n"
          ]
        }
      ]
    },
    {
      "cell_type": "code",
      "source": [
        "# boolean indexing checks a condition  and gives boolean value\n",
        "print(one_d)\n",
        "print(one_d>45)# checks condition values >45 return true\n",
        "# if we want to return values and not boolean\n",
        "print(one_d[one_d>45])"
      ],
      "metadata": {
        "colab": {
          "base_uri": "https://localhost:8080/"
        },
        "id": "sFhz677CVyAm",
        "outputId": "5b4d91bc-e02e-4b01-9ead-b03be899b0ad"
      },
      "execution_count": 28,
      "outputs": [
        {
          "output_type": "stream",
          "name": "stdout",
          "text": [
            "[23 54 67  2 34 56]\n",
            "[False  True  True False False  True]\n",
            "[54 67 56]\n"
          ]
        }
      ]
    },
    {
      "cell_type": "markdown",
      "source": [
        "For 2-D"
      ],
      "metadata": {
        "id": "2MEsyVDnW1M2"
      }
    },
    {
      "cell_type": "code",
      "source": [
        "two_d=np.array(np.arange(9).reshape(3,3))\n",
        "print(two_d)"
      ],
      "metadata": {
        "colab": {
          "base_uri": "https://localhost:8080/"
        },
        "id": "ruEjiZM6W0a8",
        "outputId": "da4e7366-cd5c-4e47-f96e-2303cf35feb4"
      },
      "execution_count": 35,
      "outputs": [
        {
          "output_type": "stream",
          "name": "stdout",
          "text": [
            "[[0 1 2]\n",
            " [3 4 5]\n",
            " [6 7 8]]\n"
          ]
        }
      ]
    },
    {
      "cell_type": "code",
      "source": [
        "# two_d index= row,column\n",
        "# print value 5 from 2-d\n",
        "print(two_d[1,2])"
      ],
      "metadata": {
        "colab": {
          "base_uri": "https://localhost:8080/"
        },
        "id": "eNHwUOvOXWxz",
        "outputId": "1dcb3975-928c-482f-8716-55c00158db2f"
      },
      "execution_count": 36,
      "outputs": [
        {
          "output_type": "stream",
          "name": "stdout",
          "text": [
            "5\n"
          ]
        }
      ]
    },
    {
      "cell_type": "code",
      "source": [
        "# get 1st row\n",
        "print(two_d[0])"
      ],
      "metadata": {
        "colab": {
          "base_uri": "https://localhost:8080/"
        },
        "id": "zUNjM1TkYWJP",
        "outputId": "bfedaee9-53f5-4d15-94b3-d50d155dd77d"
      },
      "execution_count": 37,
      "outputs": [
        {
          "output_type": "stream",
          "name": "stdout",
          "text": [
            "[0 1 2]\n"
          ]
        }
      ]
    },
    {
      "cell_type": "code",
      "source": [
        "# slice values 1,2,4,5 from top right corner of ,matrix\n",
        "print(two_d[0:2,1:3])"
      ],
      "metadata": {
        "colab": {
          "base_uri": "https://localhost:8080/"
        },
        "id": "CJbJXcjdYmHu",
        "outputId": "0544d5de-5527-40ac-d08f-f391a4cdc703"
      },
      "execution_count": 38,
      "outputs": [
        {
          "output_type": "stream",
          "name": "stdout",
          "text": [
            "[[1 2]\n",
            " [4 5]]\n"
          ]
        }
      ]
    },
    {
      "cell_type": "code",
      "source": [
        "print(two_d[1:3,0:2])"
      ],
      "metadata": {
        "colab": {
          "base_uri": "https://localhost:8080/"
        },
        "id": "KPOI90j1YstN",
        "outputId": "6244f021-715c-4cb6-969a-d8d3888effa6"
      },
      "execution_count": 40,
      "outputs": [
        {
          "output_type": "stream",
          "name": "stdout",
          "text": [
            "[[3 4]\n",
            " [6 7]]\n"
          ]
        }
      ]
    },
    {
      "cell_type": "code",
      "source": [
        "print(two_d)\n",
        "print(two_d[two_d>5])"
      ],
      "metadata": {
        "colab": {
          "base_uri": "https://localhost:8080/"
        },
        "id": "jYCTISknZSfS",
        "outputId": "32d226b3-b7ad-4774-84f1-886904eb649f"
      },
      "execution_count": 42,
      "outputs": [
        {
          "output_type": "stream",
          "name": "stdout",
          "text": [
            "[[0 1 2]\n",
            " [3 4 5]\n",
            " [6 7 8]]\n",
            "[6 7 8]\n"
          ]
        }
      ]
    },
    {
      "cell_type": "markdown",
      "source": [
        "For 3-D array"
      ],
      "metadata": {
        "id": "_Mp5q0g5aMVw"
      }
    },
    {
      "cell_type": "code",
      "source": [
        "three_d=np.array([np.arange(9,18).reshape(3,3),\n",
        "                  np.linspace(10,1000,9,dtype=int).reshape(3,3),\n",
        "                  np.arange(18,27).reshape(3,3)])\n",
        "print(three_d)"
      ],
      "metadata": {
        "colab": {
          "base_uri": "https://localhost:8080/"
        },
        "id": "TBCcw6VmaO91",
        "outputId": "270b9646-8efb-459f-f078-441234d35aae"
      },
      "execution_count": 45,
      "outputs": [
        {
          "output_type": "stream",
          "name": "stdout",
          "text": [
            "[[[   9   10   11]\n",
            "  [  12   13   14]\n",
            "  [  15   16   17]]\n",
            "\n",
            " [[  10  133  257]\n",
            "  [ 381  505  628]\n",
            "  [ 752  876 1000]]\n",
            "\n",
            " [[  18   19   20]\n",
            "  [  21   22   23]\n",
            "  [  24   25   26]]]\n"
          ]
        }
      ]
    },
    {
      "cell_type": "code",
      "source": [
        "# for 3d index= blocks,rows,columns\n",
        "# print 505,628,876,1000\n",
        "print(three_d[1,1:,1:])"
      ],
      "metadata": {
        "colab": {
          "base_uri": "https://localhost:8080/"
        },
        "id": "GZrOrlnJbHPc",
        "outputId": "49b89722-e0f7-4ad4-b2e2-cd0e1410caae"
      },
      "execution_count": 47,
      "outputs": [
        {
          "output_type": "stream",
          "name": "stdout",
          "text": [
            "[[ 505  628]\n",
            " [ 876 1000]]\n"
          ]
        }
      ]
    },
    {
      "cell_type": "code",
      "source": [
        "#  print 21 from 3rd block\n",
        "print(three_d[2,1,0])"
      ],
      "metadata": {
        "colab": {
          "base_uri": "https://localhost:8080/"
        },
        "id": "KE3cUszxbyPW",
        "outputId": "73a96fad-6daf-4276-e5cb-93ba637adf7d"
      },
      "execution_count": 48,
      "outputs": [
        {
          "output_type": "stream",
          "name": "stdout",
          "text": [
            "21\n"
          ]
        }
      ]
    },
    {
      "cell_type": "code",
      "source": [
        "print(three_d>100)\n",
        "print(three_d)"
      ],
      "metadata": {
        "colab": {
          "base_uri": "https://localhost:8080/"
        },
        "id": "zyTxqqyHcCkX",
        "outputId": "369294c2-e7f6-4449-a4ea-0a9b56dbf8fc"
      },
      "execution_count": 50,
      "outputs": [
        {
          "output_type": "stream",
          "name": "stdout",
          "text": [
            "[[[False False False]\n",
            "  [False False False]\n",
            "  [False False False]]\n",
            "\n",
            " [[False  True  True]\n",
            "  [ True  True  True]\n",
            "  [ True  True  True]]\n",
            "\n",
            " [[False False False]\n",
            "  [False False False]\n",
            "  [False False False]]]\n",
            "[[[   9   10   11]\n",
            "  [  12   13   14]\n",
            "  [  15   16   17]]\n",
            "\n",
            " [[  10  133  257]\n",
            "  [ 381  505  628]\n",
            "  [ 752  876 1000]]\n",
            "\n",
            " [[  18   19   20]\n",
            "  [  21   22   23]\n",
            "  [  24   25   26]]]\n"
          ]
        }
      ]
    },
    {
      "cell_type": "code",
      "source": [
        "print(three_d,'\\n',three_d[three_d>100])"
      ],
      "metadata": {
        "colab": {
          "base_uri": "https://localhost:8080/"
        },
        "id": "c5FAxzmwcQac",
        "outputId": "8524e10c-dc1f-42b9-fc46-ecb0c56e048a"
      },
      "execution_count": 52,
      "outputs": [
        {
          "output_type": "stream",
          "name": "stdout",
          "text": [
            "[[[   9   10   11]\n",
            "  [  12   13   14]\n",
            "  [  15   16   17]]\n",
            "\n",
            " [[  10  133  257]\n",
            "  [ 381  505  628]\n",
            "  [ 752  876 1000]]\n",
            "\n",
            " [[  18   19   20]\n",
            "  [  21   22   23]\n",
            "  [  24   25   26]]] \n",
            " [ 133  257  381  505  628  752  876 1000]\n"
          ]
        }
      ]
    },
    {
      "cell_type": "markdown",
      "source": [
        "WAP  to make a checkerboard array filled with 0 and 1"
      ],
      "metadata": {
        "id": "L0kRw-3nf3Fh"
      }
    },
    {
      "cell_type": "code",
      "source": [
        "board=np.zeros((5,5),dtype=int)\n",
        "\n",
        "board[::2,::2]=1\n",
        "board[1::2,1::2]=1\n",
        "print(board)"
      ],
      "metadata": {
        "colab": {
          "base_uri": "https://localhost:8080/"
        },
        "id": "oN3fhk18f2x4",
        "outputId": "a54db3e6-ab60-4120-ad4a-cb559aaf4b74"
      },
      "execution_count": 59,
      "outputs": [
        {
          "output_type": "stream",
          "name": "stdout",
          "text": [
            "[[1 0 1 0 1]\n",
            " [0 1 0 1 0]\n",
            " [1 0 1 0 1]\n",
            " [0 1 0 1 0]\n",
            " [1 0 1 0 1]]\n"
          ]
        }
      ]
    }
  ]
}