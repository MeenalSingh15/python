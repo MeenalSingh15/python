{
  "nbformat": 4,
  "nbformat_minor": 0,
  "metadata": {
    "colab": {
      "provenance": []
    },
    "kernelspec": {
      "name": "python3",
      "display_name": "Python 3"
    },
    "language_info": {
      "name": "python"
    }
  },
  "cells": [
    {
      "cell_type": "markdown",
      "source": [
        "**List**"
      ],
      "metadata": {
        "id": "1AJ4b0f4MCml"
      }
    },
    {
      "cell_type": "code",
      "source": [
        "my_list = [6,7,1, 2, 3, 4, 5] #creating a list"
      ],
      "metadata": {
        "id": "bdaoKZVNMMF2"
      },
      "execution_count": null,
      "outputs": []
    },
    {
      "cell_type": "markdown",
      "source": [
        "**list methods**\n",
        "**sort()**"
      ],
      "metadata": {
        "id": "fqd7VRJFM9Zz"
      }
    },
    {
      "cell_type": "code",
      "source": [
        "my_list.sort() #sorts list in ascending order\n",
        "my_list"
      ],
      "metadata": {
        "colab": {
          "base_uri": "https://localhost:8080/"
        },
        "id": "0ztKbFPjNIPL",
        "outputId": "25f5727d-b425-4941-d3cd-d2d9cfbc6034"
      },
      "execution_count": null,
      "outputs": [
        {
          "output_type": "execute_result",
          "data": {
            "text/plain": [
              "[1, 2, 3, 4, 5, 6, 7]"
            ]
          },
          "metadata": {},
          "execution_count": 38
        }
      ]
    },
    {
      "cell_type": "code",
      "source": [
        "my_list.sort(reverse=True)\n",
        "my_list"
      ],
      "metadata": {
        "colab": {
          "base_uri": "https://localhost:8080/"
        },
        "id": "2wEw1TLfNSW_",
        "outputId": "532ec640-c243-4ad3-9f81-67ccb32607f8"
      },
      "execution_count": null,
      "outputs": [
        {
          "output_type": "execute_result",
          "data": {
            "text/plain": [
              "[7, 6, 5, 4, 3, 2, 1]"
            ]
          },
          "metadata": {},
          "execution_count": 39
        }
      ]
    },
    {
      "cell_type": "markdown",
      "source": [
        "**reverse()**"
      ],
      "metadata": {
        "id": "CHl3oumMNgDX"
      }
    },
    {
      "cell_type": "code",
      "source": [
        "my_list.reverse() # reverses the order of original list\n",
        "my_list"
      ],
      "metadata": {
        "colab": {
          "base_uri": "https://localhost:8080/"
        },
        "id": "Ljmcf8U0NqrT",
        "outputId": "2b994c73-4654-4226-a53b-bfe9b5e37fec"
      },
      "execution_count": null,
      "outputs": [
        {
          "output_type": "execute_result",
          "data": {
            "text/plain": [
              "[1, 2, 3, 4, 5, 6, 7]"
            ]
          },
          "metadata": {},
          "execution_count": 40
        }
      ]
    },
    {
      "cell_type": "markdown",
      "source": [
        "**index()**  indexing in list starts from 0 we can also perform slicing in list"
      ],
      "metadata": {
        "id": "KdgWwOwaN1k_"
      }
    },
    {
      "cell_type": "code",
      "source": [
        "print(my_list.index(5) )# gives index of the first occurence of the value 5 in list"
      ],
      "metadata": {
        "colab": {
          "base_uri": "https://localhost:8080/"
        },
        "id": "WnqObnpLN-vH",
        "outputId": "132522e3-23dc-4b44-b63e-fc4f82df1f2c"
      },
      "execution_count": null,
      "outputs": [
        {
          "output_type": "stream",
          "name": "stdout",
          "text": [
            "4\n"
          ]
        }
      ]
    },
    {
      "cell_type": "markdown",
      "source": [
        "**count()**"
      ],
      "metadata": {
        "id": "N6X1msIYOWhi"
      }
    },
    {
      "cell_type": "code",
      "source": [
        "my_list.append(1)\n",
        "my_list"
      ],
      "metadata": {
        "colab": {
          "base_uri": "https://localhost:8080/"
        },
        "id": "Mw2gF8pwOsyu",
        "outputId": "7a5784ca-a72a-417f-88aa-43b3d1183511"
      },
      "execution_count": null,
      "outputs": [
        {
          "output_type": "execute_result",
          "data": {
            "text/plain": [
              "[1, 2, 3, 4, 5, 6, 7, 1]"
            ]
          },
          "metadata": {},
          "execution_count": 42
        }
      ]
    },
    {
      "cell_type": "code",
      "source": [
        "my_list.count(1) # counts the number of times a value comes in list"
      ],
      "metadata": {
        "colab": {
          "base_uri": "https://localhost:8080/"
        },
        "id": "l5slUND1O26w",
        "outputId": "231a5e70-a41e-4644-b09d-5a80e1de58f5"
      },
      "execution_count": null,
      "outputs": [
        {
          "output_type": "execute_result",
          "data": {
            "text/plain": [
              "2"
            ]
          },
          "metadata": {},
          "execution_count": 43
        }
      ]
    },
    {
      "cell_type": "markdown",
      "source": [
        "**copy()** it is used to create a copy of the list so that original remains intact .\n",
        "This is done because if we use like m=my_list\n",
        "and we perform certain functions on m my_list also undergoes those changes"
      ],
      "metadata": {
        "id": "5gM42AvhO_aM"
      }
    },
    {
      "cell_type": "code",
      "source": [
        "m=my_list\n",
        "m[0]=0\n",
        "my_list # my_list also undergoes modifications done on m"
      ],
      "metadata": {
        "colab": {
          "base_uri": "https://localhost:8080/"
        },
        "id": "HScLzhRMPpgg",
        "outputId": "faac2ece-4be3-4d77-f86e-89d338a7127b"
      },
      "execution_count": null,
      "outputs": [
        {
          "output_type": "execute_result",
          "data": {
            "text/plain": [
              "[0, 2, 3, 4, 5, 6, 7, 1]"
            ]
          },
          "metadata": {},
          "execution_count": 44
        }
      ]
    },
    {
      "cell_type": "code",
      "source": [
        "n=my_list.copy()\n",
        "n[0]=11\n",
        "n\n",
        "\n"
      ],
      "metadata": {
        "colab": {
          "base_uri": "https://localhost:8080/"
        },
        "id": "zk_LSHk9P7MX",
        "outputId": "e4798428-bb86-4509-a22b-758267c019fc"
      },
      "execution_count": null,
      "outputs": [
        {
          "output_type": "execute_result",
          "data": {
            "text/plain": [
              "[11, 2, 3, 4, 5, 6, 7, 1]"
            ]
          },
          "metadata": {},
          "execution_count": 45
        }
      ]
    },
    {
      "cell_type": "code",
      "source": [
        "my_list"
      ],
      "metadata": {
        "colab": {
          "base_uri": "https://localhost:8080/"
        },
        "id": "b8zwGqsqQOYm",
        "outputId": "b2b68765-b101-497e-c2da-ee9814bd40c3"
      },
      "execution_count": null,
      "outputs": [
        {
          "output_type": "execute_result",
          "data": {
            "text/plain": [
              "[0, 2, 3, 4, 5, 6, 7, 1]"
            ]
          },
          "metadata": {},
          "execution_count": 46
        }
      ]
    },
    {
      "cell_type": "markdown",
      "source": [
        "**append()** it adds item at the end of list"
      ],
      "metadata": {
        "id": "UGv1Z_jcQTHe"
      }
    },
    {
      "cell_type": "code",
      "source": [
        "my_list.append(\"append\") #item addes at the end of list\n",
        "my_list"
      ],
      "metadata": {
        "colab": {
          "base_uri": "https://localhost:8080/"
        },
        "id": "IUv4L9zYQkLw",
        "outputId": "75953024-f243-445e-dfa4-21b6b214a71a"
      },
      "execution_count": null,
      "outputs": [
        {
          "output_type": "execute_result",
          "data": {
            "text/plain": [
              "[0, 2, 3, 4, 5, 6, 7, 1, 'append']"
            ]
          },
          "metadata": {},
          "execution_count": 47
        }
      ]
    },
    {
      "cell_type": "code",
      "source": [
        "my_list.append(\"append\") #if you run again item adds at the end of list again\n",
        "my_list"
      ],
      "metadata": {
        "colab": {
          "base_uri": "https://localhost:8080/"
        },
        "id": "CuaG8sl1R2iE",
        "outputId": "03fe5206-0410-4765-8307-a19f24a2c34b"
      },
      "execution_count": null,
      "outputs": [
        {
          "output_type": "execute_result",
          "data": {
            "text/plain": [
              "[0, 2, 3, 4, 5, 6, 7, 1, 'append', 'append']"
            ]
          },
          "metadata": {},
          "execution_count": 48
        }
      ]
    },
    {
      "cell_type": "markdown",
      "source": [
        "**insert()** it used to add items at paticular position in list\n",
        "syntax list.insert(index,value)"
      ],
      "metadata": {
        "id": "HpqwPsPdQug0"
      }
    },
    {
      "cell_type": "code",
      "source": [
        "my_list.insert(2,\"position 2\")# adds item to index 2\n",
        "my_list"
      ],
      "metadata": {
        "colab": {
          "base_uri": "https://localhost:8080/"
        },
        "id": "nzGZdrCJRkH7",
        "outputId": "446eb70e-fad6-437a-9c52-65ef4ac42c21"
      },
      "execution_count": null,
      "outputs": [
        {
          "output_type": "execute_result",
          "data": {
            "text/plain": [
              "[0, 2, 'position 2', 3, 4, 5, 6, 7, 1, 'append', 'append']"
            ]
          },
          "metadata": {},
          "execution_count": 49
        }
      ]
    },
    {
      "cell_type": "code",
      "source": [
        "my_list.insert(2,\"position 2\")# #if you run again item adds at index 2\n",
        "my_list"
      ],
      "metadata": {
        "colab": {
          "base_uri": "https://localhost:8080/"
        },
        "id": "wfyimTNFSWXm",
        "outputId": "01067e07-8998-44bd-d5b2-6095823abc7e"
      },
      "execution_count": null,
      "outputs": [
        {
          "output_type": "execute_result",
          "data": {
            "text/plain": [
              "[0, 2, 'position 2', 'position 2', 3, 4, 5, 6, 7, 1, 'append', 'append']"
            ]
          },
          "metadata": {},
          "execution_count": 50
        }
      ]
    },
    {
      "cell_type": "markdown",
      "source": [
        "**extend()**the extend() method is used to add elements from an iterable (such as a list, tuple, or any other iterable) to the end of an existing list.\n",
        "syntax list1.extend(list2) - This adds all item of list2 to the end of list1"
      ],
      "metadata": {
        "id": "UbL7kcB8Shw6"
      }
    },
    {
      "cell_type": "code",
      "source": [
        "list1=['original','list']\n",
        "list2=['I am',\"new\",\"here!\"]\n",
        "list1.extend(list2)# adds list2 at the end of list1\n",
        "list1\n"
      ],
      "metadata": {
        "colab": {
          "base_uri": "https://localhost:8080/"
        },
        "id": "ffy4yKRvTTxH",
        "outputId": "0b33bc1e-8bed-4ca4-bb8c-f1ae0d4366de"
      },
      "execution_count": null,
      "outputs": [
        {
          "output_type": "execute_result",
          "data": {
            "text/plain": [
              "['original', 'list', 'I am', 'new', 'here!']"
            ]
          },
          "metadata": {},
          "execution_count": 52
        }
      ]
    },
    {
      "cell_type": "code",
      "source": [
        "list2 # this does not change"
      ],
      "metadata": {
        "colab": {
          "base_uri": "https://localhost:8080/"
        },
        "id": "mLk7wr7IS4M3",
        "outputId": "769845be-4009-4792-a02b-b215fc320c2f"
      },
      "execution_count": null,
      "outputs": [
        {
          "output_type": "execute_result",
          "data": {
            "text/plain": [
              "['I am', 'new', 'here!']"
            ]
          },
          "metadata": {},
          "execution_count": 54
        }
      ]
    },
    {
      "cell_type": "markdown",
      "source": [
        "Other method of concatenating two list is using '+' operator suppose you do not want to change existing list so you can use this"
      ],
      "metadata": {
        "id": "U33EGKXKUAME"
      }
    },
    {
      "cell_type": "code",
      "source": [
        "k=list1+ list2\n",
        "k"
      ],
      "metadata": {
        "colab": {
          "base_uri": "https://localhost:8080/"
        },
        "id": "kZX3XqaJUNWp",
        "outputId": "6578ece1-1cb4-4d63-c342-5dd22cdc6d72"
      },
      "execution_count": null,
      "outputs": [
        {
          "output_type": "execute_result",
          "data": {
            "text/plain": [
              "['original', 'list', 'I am', 'new', 'here!', 'I am', 'new', 'here!']"
            ]
          },
          "metadata": {},
          "execution_count": 55
        }
      ]
    },
    {
      "cell_type": "code",
      "source": [
        "list1\n"
      ],
      "metadata": {
        "colab": {
          "base_uri": "https://localhost:8080/"
        },
        "id": "_2Is2M7jUZJL",
        "outputId": "888f7fd9-88b7-4f3b-86e3-ba3ebc70c3ad"
      },
      "execution_count": null,
      "outputs": [
        {
          "output_type": "execute_result",
          "data": {
            "text/plain": [
              "['original', 'list', 'I am', 'new', 'here!']"
            ]
          },
          "metadata": {},
          "execution_count": 56
        }
      ]
    },
    {
      "cell_type": "code",
      "source": [
        "list2"
      ],
      "metadata": {
        "colab": {
          "base_uri": "https://localhost:8080/"
        },
        "id": "3S-yPKH_UbPz",
        "outputId": "369441d3-36c4-4e06-e7fc-13416384f012"
      },
      "execution_count": null,
      "outputs": [
        {
          "output_type": "execute_result",
          "data": {
            "text/plain": [
              "['I am', 'new', 'here!']"
            ]
          },
          "metadata": {},
          "execution_count": 57
        }
      ]
    },
    {
      "cell_type": "markdown",
      "source": [
        "**pop()** this removes an item from a particular position in list"
      ],
      "metadata": {
        "id": "onHnJMxkUtWz"
      }
    },
    {
      "cell_type": "code",
      "source": [
        "a=[0,1,2,3,4]\n",
        "a.pop(2)# pop values from index 2\n",
        "a"
      ],
      "metadata": {
        "colab": {
          "base_uri": "https://localhost:8080/"
        },
        "id": "SJDeUo9xU1GP",
        "outputId": "154f9dc9-4d72-419a-e94e-29d9411610eb"
      },
      "execution_count": null,
      "outputs": [
        {
          "output_type": "execute_result",
          "data": {
            "text/plain": [
              "[0, 1, 3, 4]"
            ]
          },
          "metadata": {},
          "execution_count": 60
        }
      ]
    }
  ]
}