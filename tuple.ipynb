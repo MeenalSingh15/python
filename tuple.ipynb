{
  "nbformat": 4,
  "nbformat_minor": 0,
  "metadata": {
    "colab": {
      "provenance": []
    },
    "kernelspec": {
      "name": "python3",
      "display_name": "Python 3"
    },
    "language_info": {
      "name": "python"
    }
  },
  "cells": [
    {
      "cell_type": "code",
      "execution_count": 1,
      "metadata": {
        "colab": {
          "base_uri": "https://localhost:8080/"
        },
        "id": "F1kOuKQJWf-9",
        "outputId": "66905a70-1b35-490e-b740-5df75c2d171f"
      },
      "outputs": [
        {
          "output_type": "stream",
          "name": "stdout",
          "text": [
            "<class 'tuple'> (9, 8, 8)\n"
          ]
        }
      ],
      "source": [
        "# creating a tuple\n",
        "t=(9,8,8)\n",
        "print(type(t),t)"
      ]
    },
    {
      "cell_type": "code",
      "source": [
        "# one element tuple\n",
        "o=(1)\n",
        "print(type(o),o)# will give type as int instead of tuple"
      ],
      "metadata": {
        "colab": {
          "base_uri": "https://localhost:8080/"
        },
        "id": "OnL8KyfdbFuF",
        "outputId": "7717eae8-49f4-475b-e59b-04c995d7947c"
      },
      "execution_count": 5,
      "outputs": [
        {
          "output_type": "stream",
          "name": "stdout",
          "text": [
            "<class 'int'> 1\n"
          ]
        }
      ]
    },
    {
      "cell_type": "code",
      "source": [
        "one_element=(1,)# always add a comma in case of one element so that python interpreter doesnt get confused\n",
        "print(type(one_element),one_element)"
      ],
      "metadata": {
        "colab": {
          "base_uri": "https://localhost:8080/"
        },
        "id": "hZAeOlKybVSk",
        "outputId": "a090f7a7-ff94-43c6-d4f1-c33a54fbe31b"
      },
      "execution_count": 6,
      "outputs": [
        {
          "output_type": "stream",
          "name": "stdout",
          "text": [
            "<class 'tuple'> (1,)\n"
          ]
        }
      ]
    },
    {
      "cell_type": "code",
      "source": [
        "#  tuple are immutable will create a type error if we try to change a value\n",
        "t[0]=1"
      ],
      "metadata": {
        "colab": {
          "base_uri": "https://localhost:8080/",
          "height": 158
        },
        "id": "26wzQBrxbtvM",
        "outputId": "d65a47ce-8704-4c0b-bea3-b0ecb4f65b94"
      },
      "execution_count": 7,
      "outputs": [
        {
          "output_type": "error",
          "ename": "TypeError",
          "evalue": "'tuple' object does not support item assignment",
          "traceback": [
            "\u001b[0;31m---------------------------------------------------------------------------\u001b[0m",
            "\u001b[0;31mTypeError\u001b[0m                                 Traceback (most recent call last)",
            "\u001b[0;32m<ipython-input-7-e5c844f4f0bb>\u001b[0m in \u001b[0;36m<cell line: 2>\u001b[0;34m()\u001b[0m\n\u001b[1;32m      1\u001b[0m \u001b[0;31m#  tuple are immutable will create a type error if we try to change a value\u001b[0m\u001b[0;34m\u001b[0m\u001b[0;34m\u001b[0m\u001b[0m\n\u001b[0;32m----> 2\u001b[0;31m \u001b[0mt\u001b[0m\u001b[0;34m[\u001b[0m\u001b[0;36m0\u001b[0m\u001b[0;34m]\u001b[0m\u001b[0;34m=\u001b[0m\u001b[0;36m1\u001b[0m\u001b[0;34m\u001b[0m\u001b[0;34m\u001b[0m\u001b[0m\n\u001b[0m",
            "\u001b[0;31mTypeError\u001b[0m: 'tuple' object does not support item assignment"
          ]
        }
      ]
    },
    {
      "cell_type": "markdown",
      "source": [
        "**indexing in tuple **\n",
        "It is same as list"
      ],
      "metadata": {
        "id": "F5LXEU1BdjtL"
      }
    },
    {
      "cell_type": "code",
      "source": [
        "tup=(0,1,2,3,4,5,6,7)\n",
        "tup"
      ],
      "metadata": {
        "colab": {
          "base_uri": "https://localhost:8080/"
        },
        "id": "8q7jpMGmcG81",
        "outputId": "bcb2f552-6042-40c8-f7b5-285c0e58aac5"
      },
      "execution_count": 8,
      "outputs": [
        {
          "output_type": "execute_result",
          "data": {
            "text/plain": [
              "(0, 1, 2, 3, 4, 5, 6, 7)"
            ]
          },
          "metadata": {},
          "execution_count": 8
        }
      ]
    },
    {
      "cell_type": "code",
      "source": [
        "print(tup[0:4]) # slicing of tuple from 0 index till 3rd index last 4 is not included"
      ],
      "metadata": {
        "colab": {
          "base_uri": "https://localhost:8080/"
        },
        "id": "yWjUJMQuduck",
        "outputId": "9dffd2d2-6370-4fb1-c5aa-8d758a18cd5d"
      },
      "execution_count": 9,
      "outputs": [
        {
          "output_type": "stream",
          "name": "stdout",
          "text": [
            "(0, 1, 2, 3)\n"
          ]
        }
      ]
    },
    {
      "cell_type": "code",
      "source": [
        "tup[:5:2] # from 0 index to 5th index (not included) every 2nd item"
      ],
      "metadata": {
        "colab": {
          "base_uri": "https://localhost:8080/"
        },
        "id": "sQ-mmjxVeBbI",
        "outputId": "1f64754b-798f-4f38-ba36-bb5b55bf8ede"
      },
      "execution_count": 11,
      "outputs": [
        {
          "output_type": "execute_result",
          "data": {
            "text/plain": [
              "(0, 2, 4)"
            ]
          },
          "metadata": {},
          "execution_count": 11
        }
      ]
    },
    {
      "cell_type": "code",
      "source": [
        "tup[1:6:3]# from 1 index to 6th index (not included) every 3rd item"
      ],
      "metadata": {
        "colab": {
          "base_uri": "https://localhost:8080/"
        },
        "id": "uB6DWLeGeSbs",
        "outputId": "15bea38f-1fc7-4c6a-8fd4-88d2736efdac"
      },
      "execution_count": 12,
      "outputs": [
        {
          "output_type": "execute_result",
          "data": {
            "text/plain": [
              "(1, 4)"
            ]
          },
          "metadata": {},
          "execution_count": 12
        }
      ]
    },
    {
      "cell_type": "code",
      "source": [
        "tup[-1::2] # negative indexing interpreter reads from last item and prints every 2nd item"
      ],
      "metadata": {
        "colab": {
          "base_uri": "https://localhost:8080/"
        },
        "id": "vIePE2zZef5w",
        "outputId": "613db946-af1a-41a0-c55e-2579a35df0ad"
      },
      "execution_count": 16,
      "outputs": [
        {
          "output_type": "execute_result",
          "data": {
            "text/plain": [
              "(7,)"
            ]
          },
          "metadata": {},
          "execution_count": 16
        }
      ]
    },
    {
      "cell_type": "markdown",
      "source": [
        "If we want to change tuple  we  can never directly do that we first have to create a list containing tuple elements and then make changes to list then converting it back to tuple"
      ],
      "metadata": {
        "id": "46Fy3vqnfiFb"
      }
    },
    {
      "cell_type": "code",
      "source": [
        "country=(\"India\",\"USA\",\"Singapore\",\"China\",\"Australia\")\n",
        "l=[]# creating a list to add values from tuple\n",
        "for i in country:\n",
        "  l.append(i)\n",
        "\n",
        "print(l,type(l))"
      ],
      "metadata": {
        "colab": {
          "base_uri": "https://localhost:8080/"
        },
        "id": "yDJ6S7lqfwxX",
        "outputId": "a49fd280-7c34-4e5b-c29d-2881ff2942f5"
      },
      "execution_count": 28,
      "outputs": [
        {
          "output_type": "stream",
          "name": "stdout",
          "text": [
            "['India', 'USA', 'Singapore', 'China', 'Australia'] <class 'list'>\n"
          ]
        }
      ]
    },
    {
      "cell_type": "code",
      "source": [
        "l.append(\"new\")# making changes to list\n",
        "l.pop(0)\n",
        "tnew=tuple(l)#converting updated list to tuple\n",
        "print(tnew,type(tnew))"
      ],
      "metadata": {
        "colab": {
          "base_uri": "https://localhost:8080/"
        },
        "id": "GsFw4QUciMQ-",
        "outputId": "4b1858da-cb6b-4da8-b02d-324e72cf9f58"
      },
      "execution_count": 32,
      "outputs": [
        {
          "output_type": "stream",
          "name": "stdout",
          "text": [
            "('USA', 'Singapore', 'China', 'Australia', 'new') <class 'tuple'>\n"
          ]
        }
      ]
    },
    {
      "cell_type": "code",
      "source": [
        "tupl=(1,2,3,4,5,6,7,7,7,7,7)\n",
        "tupl.count(7)# counting no. of times value 7 is present"
      ],
      "metadata": {
        "colab": {
          "base_uri": "https://localhost:8080/"
        },
        "id": "0W8ZtF_Yk5qv",
        "outputId": "5b9e29c2-7cc4-452f-fe37-038fdfed2ce3"
      },
      "execution_count": 35,
      "outputs": [
        {
          "output_type": "execute_result",
          "data": {
            "text/plain": [
              "5"
            ]
          },
          "metadata": {},
          "execution_count": 35
        }
      ]
    },
    {
      "cell_type": "code",
      "source": [
        "tupl.index(5)# gives the first opcuurence index of value"
      ],
      "metadata": {
        "colab": {
          "base_uri": "https://localhost:8080/"
        },
        "id": "QceHlRbSlMPM",
        "outputId": "4ba9f38d-b30f-47ae-8905-a2ffd6e9c0b5"
      },
      "execution_count": 36,
      "outputs": [
        {
          "output_type": "execute_result",
          "data": {
            "text/plain": [
              "4"
            ]
          },
          "metadata": {},
          "execution_count": 36
        }
      ]
    },
    {
      "cell_type": "code",
      "source": [
        "tupl.index(7)#gives the first opcuurence index of value"
      ],
      "metadata": {
        "colab": {
          "base_uri": "https://localhost:8080/"
        },
        "id": "qDmwUF2dlWpd",
        "outputId": "30c0e11b-6437-4ff6-fb87-6ea81bc1d64c"
      },
      "execution_count": 37,
      "outputs": [
        {
          "output_type": "execute_result",
          "data": {
            "text/plain": [
              "6"
            ]
          },
          "metadata": {},
          "execution_count": 37
        }
      ]
    },
    {
      "cell_type": "code",
      "source": [
        "tupl.index(7,3,10) # this slices tuple from 3rd index to 9th index and then checks the occurence of 7 value in the sliced part\n",
        "# tuple.index(element, start, end) this is the syntax"
      ],
      "metadata": {
        "colab": {
          "base_uri": "https://localhost:8080/"
        },
        "id": "sg_q85Oelwv2",
        "outputId": "34e5fd3a-2854-4a73-817b-304293f82314"
      },
      "execution_count": 41,
      "outputs": [
        {
          "output_type": "execute_result",
          "data": {
            "text/plain": [
              "6"
            ]
          },
          "metadata": {},
          "execution_count": 41
        }
      ]
    },
    {
      "cell_type": "code",
      "source": [
        "len(tupl)# len functions give the number of elements in a tuple or list"
      ],
      "metadata": {
        "colab": {
          "base_uri": "https://localhost:8080/"
        },
        "id": "O_EzFbl5mWdZ",
        "outputId": "f619c0b0-1767-4866-f08c-563ec329e2ca"
      },
      "execution_count": 42,
      "outputs": [
        {
          "output_type": "execute_result",
          "data": {
            "text/plain": [
              "11"
            ]
          },
          "metadata": {},
          "execution_count": 42
        }
      ]
    },
    {
      "cell_type": "code",
      "source": [
        "l=[1,2,3]\n",
        "len(l)"
      ],
      "metadata": {
        "colab": {
          "base_uri": "https://localhost:8080/"
        },
        "id": "9f8jN-15nDKj",
        "outputId": "2503e657-66ce-4b04-b27b-b3c12b7db045"
      },
      "execution_count": 43,
      "outputs": [
        {
          "output_type": "execute_result",
          "data": {
            "text/plain": [
              "3"
            ]
          },
          "metadata": {},
          "execution_count": 43
        }
      ]
    }
  ]
}