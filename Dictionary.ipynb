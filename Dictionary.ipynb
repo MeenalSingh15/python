{
  "nbformat": 4,
  "nbformat_minor": 0,
  "metadata": {
    "colab": {
      "provenance": []
    },
    "kernelspec": {
      "name": "python3",
      "display_name": "Python 3"
    },
    "language_info": {
      "name": "python"
    }
  },
  "cells": [
    {
      "cell_type": "markdown",
      "source": [
        "**Dictionary**\n",
        "a dictionary is a built-in data type that is used to store key-value pairs. Dictionaries are mutable, ordered collections from python 3.7 version onwards,  they can be modified after creation.\n",
        "Creating a Dictionary:\n",
        "You can create a dictionary by placing a comma-separated list of key-value pairs within curly braces {}, with a colon : separating each key from its corresponding value. For example:\n",
        "\n",
        "\n",
        "You can access the values in a dictionary by referencing the associated key. For example:\n",
        "\n",
        "\n",
        "You can modify the value associated with a key by simply assigning a new value to that key. For example:\n",
        "\n",
        "\n",
        "\n",
        "Adding Key-Value Pairs:\n",
        "You can add new key-value pairs to a dictionary by assigning a value to a new key. For example:\n",
        "\n",
        "\n",
        "Iterating Over a Dictionary:\n",
        "You can iterate over the keys, values, or key-value pairs of a dictionary using loops or specific methods like keys(), values(), and items(). For example:\n",
        "\n",
        "\n",
        "\n",
        "\n",
        "Checking if a Key Exists:\n",
        "You can check if a key exists in a dictionary using the in keyword. For example:\n",
        "\n",
        "\n",
        "Dictionaries in Python are very versatile and are commonly used for tasks involving mappings, caching, and fast lookups.\n",
        "\n",
        "\n",
        "\n",
        "\n",
        "\n"
      ],
      "metadata": {
        "id": "8YlpsU5VOyvD"
      }
    },
    {
      "cell_type": "code",
      "execution_count": 5,
      "metadata": {
        "colab": {
          "base_uri": "https://localhost:8080/"
        },
        "id": "UdrPK-rEOtzN",
        "outputId": "da5d67f6-6859-495f-a4ba-a77ec554519c"
      },
      "outputs": [
        {
          "output_type": "stream",
          "name": "stdout",
          "text": [
            "{'name': 'meenal', 'surname': 'singh', 'study': 'data'}\n"
          ]
        }
      ],
      "source": [
        "dicti={'name':\"meenal\",'surname':\"singh\",'study':\"data\"}# key:value here 1is key storing value meenal\n",
        "print(dicti)"
      ]
    },
    {
      "cell_type": "code",
      "source": [
        "#  accessing a particular key will get you value of that key\n",
        "print(dicti[\"name\"])"
      ],
      "metadata": {
        "colab": {
          "base_uri": "https://localhost:8080/"
        },
        "id": "JzbDiukyQwE9",
        "outputId": "d2d6123b-5723-494d-b58c-4b250f962a8d"
      },
      "execution_count": 6,
      "outputs": [
        {
          "output_type": "stream",
          "name": "stdout",
          "text": [
            "meenal\n"
          ]
        }
      ]
    },
    {
      "cell_type": "code",
      "source": [
        "#   suppose you dont know for sure if they key exist in a particular dictionary\n",
        "# if you use above code this will return an error\n",
        "print(dicti[\"name2\"])"
      ],
      "metadata": {
        "colab": {
          "base_uri": "https://localhost:8080/",
          "height": 158
        },
        "id": "7aV2VYSgRGlA",
        "outputId": "038bb4f0-7c7d-44f0-cac3-7dc8e4c1bfb2"
      },
      "execution_count": 7,
      "outputs": [
        {
          "output_type": "error",
          "ename": "KeyError",
          "evalue": "'name2'",
          "traceback": [
            "\u001b[0;31m---------------------------------------------------------------------------\u001b[0m",
            "\u001b[0;31mKeyError\u001b[0m                                  Traceback (most recent call last)",
            "\u001b[0;32m<ipython-input-7-bbf26751c3bd>\u001b[0m in \u001b[0;36m<cell line: 2>\u001b[0;34m()\u001b[0m\n\u001b[1;32m      1\u001b[0m \u001b[0;31m#   suppose you dont know for sure if they key exist in a particular dictionary if you use above code this will return an error\u001b[0m\u001b[0;34m\u001b[0m\u001b[0;34m\u001b[0m\u001b[0m\n\u001b[0;32m----> 2\u001b[0;31m \u001b[0mprint\u001b[0m\u001b[0;34m(\u001b[0m\u001b[0mdicti\u001b[0m\u001b[0;34m[\u001b[0m\u001b[0;34m\"name2\"\u001b[0m\u001b[0;34m]\u001b[0m\u001b[0;34m)\u001b[0m\u001b[0;34m\u001b[0m\u001b[0;34m\u001b[0m\u001b[0m\n\u001b[0m",
            "\u001b[0;31mKeyError\u001b[0m: 'name2'"
          ]
        }
      ]
    },
    {
      "cell_type": "code",
      "source": [
        "print(dicti.get(\"name2\"))# this will not return error but will tell you no key name 2 exist in the dictionary"
      ],
      "metadata": {
        "colab": {
          "base_uri": "https://localhost:8080/"
        },
        "id": "A4jCkiCxRat1",
        "outputId": "56cd7c1a-700c-4b59-b123-192942c88047"
      },
      "execution_count": 9,
      "outputs": [
        {
          "output_type": "stream",
          "name": "stdout",
          "text": [
            "None\n"
          ]
        }
      ]
    },
    {
      "cell_type": "code",
      "source": [
        "# access all keys\n",
        "print(dicti.keys())"
      ],
      "metadata": {
        "colab": {
          "base_uri": "https://localhost:8080/"
        },
        "id": "govxQfGGRzgt",
        "outputId": "d4bf0f97-8d5a-4db6-9ece-b5ce748dc09b"
      },
      "execution_count": 10,
      "outputs": [
        {
          "output_type": "stream",
          "name": "stdout",
          "text": [
            "dict_keys(['name', 'surname', 'study'])\n"
          ]
        }
      ]
    },
    {
      "cell_type": "code",
      "source": [
        "# to get all values\n",
        "for key in dicti.keys():\n",
        "  print(f'The value of key {key} is {dicti[key]}')"
      ],
      "metadata": {
        "colab": {
          "base_uri": "https://localhost:8080/"
        },
        "id": "sOwbpPLSSGTK",
        "outputId": "83e12c45-0f8c-4bc0-d3b6-d6165f3c390b"
      },
      "execution_count": 15,
      "outputs": [
        {
          "output_type": "stream",
          "name": "stdout",
          "text": [
            "The value of key name is meenal\n",
            "The value of key surname is singh\n",
            "The value of key study is data\n"
          ]
        }
      ]
    },
    {
      "cell_type": "code",
      "source": [
        "# to get all values\n",
        "print(dicti.values())"
      ],
      "metadata": {
        "colab": {
          "base_uri": "https://localhost:8080/"
        },
        "id": "8n1jQLxVSZ6G",
        "outputId": "3b5f423f-f04d-4bad-d05c-e21c8eca046e"
      },
      "execution_count": 13,
      "outputs": [
        {
          "output_type": "stream",
          "name": "stdout",
          "text": [
            "dict_values(['meenal', 'singh', 'data'])\n"
          ]
        }
      ]
    },
    {
      "cell_type": "code",
      "source": [
        "# to get key valuye pairs\n",
        "print(dicti.items())\n",
        "# When looping through dictionaries, the key and corresponding value can be retrieved at the same time using the items() method.\n",
        "for key,value in dicti.items():\n",
        "  print(f'The value of key {key} is {value}')"
      ],
      "metadata": {
        "colab": {
          "base_uri": "https://localhost:8080/"
        },
        "id": "KEo3xNK7Srj8",
        "outputId": "3325f848-d9d5-4483-820b-27cc42630000"
      },
      "execution_count": 17,
      "outputs": [
        {
          "output_type": "stream",
          "name": "stdout",
          "text": [
            "dict_items([('name', 'meenal'), ('surname', 'singh'), ('study', 'data')])\n",
            "The value of key name is meenal\n",
            "The value of key surname is singh\n",
            "The value of key study is data\n"
          ]
        }
      ]
    },
    {
      "cell_type": "markdown",
      "source": [
        "**Dictionary methods**\n",
        "update() - adds all items of dictionary to the dictionary we updated"
      ],
      "metadata": {
        "id": "n-ULFEMBUB3t"
      }
    },
    {
      "cell_type": "code",
      "source": [
        "# update()\n",
        "d1={1:\"Meenal\",2:\"is\",3:\"on\",4:\"old\",5:\"dictionary\"}\n",
        "d2={6:\"hi\",7:'new',8:\"dictionary\",9:\"here!\"}\n",
        "# if keys are same in both dictionary d1 values will be lost after update and d1 will get values of d2\n",
        "d1.update(d2)# d1 stores all items in d2\n",
        "print(d1)"
      ],
      "metadata": {
        "colab": {
          "base_uri": "https://localhost:8080/"
        },
        "id": "JiMzuVObTqZz",
        "outputId": "f8299a01-4028-48d3-d227-ff98842e104f"
      },
      "execution_count": 21,
      "outputs": [
        {
          "output_type": "stream",
          "name": "stdout",
          "text": [
            "{1: 'Meenal', 2: 'is', 3: 'on', 4: 'old', 5: 'dictionary', 6: 'hi', 7: 'new', 8: 'dictionary', 9: 'here!'}\n"
          ]
        }
      ]
    },
    {
      "cell_type": "markdown",
      "source": [
        "clear()clears all items in dictionary"
      ],
      "metadata": {
        "id": "Zpw6GaKiWJYr"
      }
    },
    {
      "cell_type": "code",
      "source": [
        "d={6:\"hi\",7:'new',8:\"dictionary\",9:\"here!\"}\n",
        "d.clear()# clears items of d\n",
        "print(d)\n"
      ],
      "metadata": {
        "colab": {
          "base_uri": "https://localhost:8080/"
        },
        "id": "_8_TtFxXV5or",
        "outputId": "d876f760-b8e0-4c80-f52f-adf4714cbfd8"
      },
      "execution_count": 22,
      "outputs": [
        {
          "output_type": "stream",
          "name": "stdout",
          "text": [
            "{}\n"
          ]
        }
      ]
    },
    {
      "cell_type": "markdown",
      "source": [
        "pop() removes key valye pairs\n",
        "\n",
        "popitem() removes last key value pair\n",
        "\n",
        "del also used to remove items"
      ],
      "metadata": {
        "id": "MjYqRf9-Wi7e"
      }
    },
    {
      "cell_type": "code",
      "source": [
        "d={6:\"hi\",7:'new',8:\"dictionary\",9:\"here!\"}\n",
        "d.pop(8)# removes key value pair of key 8\n",
        "print(d)"
      ],
      "metadata": {
        "colab": {
          "base_uri": "https://localhost:8080/"
        },
        "id": "hu8Pvh13WWdp",
        "outputId": "3490e9cf-1113-4d61-c816-bbdca0d101cd"
      },
      "execution_count": 23,
      "outputs": [
        {
          "output_type": "stream",
          "name": "stdout",
          "text": [
            "{6: 'hi', 7: 'new', 9: 'here!'}\n"
          ]
        }
      ]
    },
    {
      "cell_type": "code",
      "source": [
        "d={6:\"hi\",7:'new',8:\"dictionary\",9:\"here!\"}\n",
        "d.popitem()# removes last key value pair\n",
        "print(d)"
      ],
      "metadata": {
        "colab": {
          "base_uri": "https://localhost:8080/"
        },
        "id": "wf7vawAZXYXL",
        "outputId": "c09842b5-fd38-44e6-b4ca-d7cf97fcb428"
      },
      "execution_count": 25,
      "outputs": [
        {
          "output_type": "stream",
          "name": "stdout",
          "text": [
            "{6: 'hi', 7: 'new', 8: 'dictionary'}\n"
          ]
        }
      ]
    },
    {
      "cell_type": "code",
      "source": [
        "d={6:\"hi\",7:'new',8:\"dictionary\",9:\"here!\"}\n",
        "del d[8]# removes key value pair of key 8\n",
        "print(d)"
      ],
      "metadata": {
        "colab": {
          "base_uri": "https://localhost:8080/"
        },
        "id": "Tm-t0xkHX0wz",
        "outputId": "ced858d9-52f2-4af0-fe7f-8234115c9c87"
      },
      "execution_count": 26,
      "outputs": [
        {
          "output_type": "stream",
          "name": "stdout",
          "text": [
            "{6: 'hi', 7: 'new', 9: 'here!'}\n"
          ]
        }
      ]
    },
    {
      "cell_type": "code",
      "source": [],
      "metadata": {
        "id": "lhxJUPjXYCbT"
      },
      "execution_count": null,
      "outputs": []
    }
  ]
}